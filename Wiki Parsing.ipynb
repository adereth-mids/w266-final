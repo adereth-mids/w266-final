{
 "cells": [
  {
   "cell_type": "code",
   "execution_count": 16,
   "metadata": {},
   "outputs": [],
   "source": [
    "import xml.etree.cElementTree as ET\n",
    "from IPython.display import clear_output\n",
    "from ipywidgets import FloatProgress, IntText\n",
    "from IPython.display import display\n",
    "from nltk.tokenize.stanford import StanfordTokenizer\n",
    "from nltk.tokenize import word_tokenize\n",
    "import nltk\n",
    "import time\n",
    "import re\n",
    "import pandas as pd\n",
    "import collections\n",
    "from math import log \n",
    "import matplotlib.pyplot as plt\n",
    "import numpy as np"
   ]
  },
  {
   "cell_type": "code",
   "execution_count": null,
   "metadata": {
    "collapsed": true
   },
   "outputs": [],
   "source": [
    "#nltk.download()"
   ]
  },
  {
   "cell_type": "markdown",
   "metadata": {},
   "source": [
    "# Extracting Articles from Specific Categories\n",
    "\n",
    "This is my first attempt at processing the Wikipedia dump.  It streamingly parses the Wikipedia XML and processes any article with a category tag that contains the specified strings.  Currently, it just writes the body of the articles to both a single file and a category specific file.  It probably should also do the tokenization, but doesn't yet."
   ]
  },
  {
   "cell_type": "code",
   "execution_count": 7,
   "metadata": {
    "collapsed": true
   },
   "outputs": [],
   "source": [
    "class ArticleProcessor:\n",
    "    \n",
    "    def __init__(self, categories):\n",
    "        self.categories = categories        \n",
    "        self.global_matcher = re.compile(\"\\[\\[Category:[^\\]]*(\" + \n",
    "                                         \"|\".join(categories) + \n",
    "                                         \")[^\\]]*\", re.IGNORECASE)\n",
    "        self.category_matcher = {}\n",
    "        self.article_writer = {}\n",
    "        self.global_writer = open(\"data/all-articles\", \"w\")\n",
    "        for category in self.categories:\n",
    "            self.category_matcher[category] = re.compile(\"\\[\\[Category:[^\\]]*\" + \n",
    "                                                         category + \n",
    "                                                         \"[^\\]]*\", re.IGNORECASE)\n",
    "            self.article_writer[category] = open(\"data/\" + category + \"-articles\", \"w\")\n",
    "            \n",
    "    def is_article_of_interest(self, article_text):\n",
    "        return self.global_matcher.search(article_text)\n",
    "\n",
    "    def process_article(self, article_text):\n",
    "        self.global_writer.write(article_text)\n",
    "        self.global_writer.write(\"\\n\")\n",
    "        for category in self.categories:\n",
    "            if self.category_matcher[category].search(article_text):\n",
    "                self.article_writer[category].write(article_text)\n",
    "                self.article_writer[category].write(\"\\n\")\n",
    "    \n",
    "    def close_all(self):\n",
    "        self.global_writer.close()\n",
    "        for writer in self.article_writer.values():\n",
    "            writer.close()\n",
    "    "
   ]
  },
  {
   "cell_type": "code",
   "execution_count": 10,
   "metadata": {},
   "outputs": [
    {
     "data": {
      "application/vnd.jupyter.widget-view+json": {
       "model_id": "7d400b5563d145e8bc9973d3d331497b",
       "version_major": 2,
       "version_minor": 0
      },
      "text/plain": [
       "A Jupyter Widget"
      ]
     },
     "metadata": {},
     "output_type": "display_data"
    },
    {
     "data": {
      "application/vnd.jupyter.widget-view+json": {
       "model_id": "f3c1ec1d3c62421eaf29cf924126f38c",
       "version_major": 2,
       "version_minor": 0
      },
      "text/plain": [
       "A Jupyter Widget"
      ]
     },
     "metadata": {},
     "output_type": "display_data"
    },
    {
     "data": {
      "application/vnd.jupyter.widget-view+json": {
       "model_id": "b4c65b3e106148d6a4193acf90e6f695",
       "version_major": 2,
       "version_minor": 0
      },
      "text/plain": [
       "A Jupyter Widget"
      ]
     },
     "metadata": {},
     "output_type": "display_data"
    },
    {
     "name": "stdout",
     "output_type": "stream",
     "text": [
      "Articles: 17773690 Time: 5338.332955360413 seconds\n"
     ]
    }
   ],
   "source": [
    "#Don't run this\n",
    "\n",
    "p = ET.iterparse(\"data/enwiki-20170820-pages-articles.xml\", \n",
    "                 events=(\"start\", \"end\"))\n",
    "\n",
    "start = time.time()\n",
    "article_count = 0\n",
    "root = None\n",
    "f = FloatProgress(min=0, max=17773690)\n",
    "t = IntText(value=0, description=\"Articles\")\n",
    "m = IntText(value=0, description=\"Matching Articles\")\n",
    "display(t, m, f)\n",
    "\n",
    "processor = ArticleProcessor([\"sportspeople\",\n",
    "                              \"artists\",\n",
    "                              \"politicians\",\n",
    "                              \"military personnel\",\n",
    "                              \"scientist\",\n",
    "                              #sportmanager\n",
    "                              #cleric\n",
    "                              \"monarch\",\n",
    "                              \"Fictional\\ characters\",\n",
    "                              \"nobility\",\n",
    "                              \"criminals\",\n",
    "                              \"judges\"\n",
    "                              \n",
    "                             ])\n",
    "try:\n",
    "    \n",
    "    for event, elem in p:\n",
    "        if root == None:\n",
    "            root = elem\n",
    "        if event == \"end\" and elem.tag == '{http://www.mediawiki.org/xml/export-0.10/}text':\n",
    "            article_count += 1\n",
    "            if article_count % 1000 == 0:\n",
    "                f.value = article_count\n",
    "                t.value = article_count\n",
    "            if elem.text and processor.is_article_of_interest(elem.text):\n",
    "                m.value += 1 \n",
    "                processor.process_article(elem.text)\n",
    "            root.clear()\n",
    "finally:\n",
    "    processor.close_all()\n",
    "    print(\"Articles:\", article_count, \"Time:\", (time.time() - start), \"seconds\")"
   ]
  },
  {
   "cell_type": "markdown",
   "metadata": {
    "collapsed": true
   },
   "source": [
    "# Extracting Articles with Gender Labels"
   ]
  },
  {
   "cell_type": "code",
   "execution_count": 2,
   "metadata": {},
   "outputs": [
    {
     "data": {
      "text/html": [
       "<div>\n",
       "<style scoped>\n",
       "    .dataframe tbody tr th:only-of-type {\n",
       "        vertical-align: middle;\n",
       "    }\n",
       "\n",
       "    .dataframe tbody tr th {\n",
       "        vertical-align: top;\n",
       "    }\n",
       "\n",
       "    .dataframe thead th {\n",
       "        text-align: right;\n",
       "    }\n",
       "</style>\n",
       "<table border=\"1\" class=\"dataframe\">\n",
       "  <thead>\n",
       "    <tr style=\"text-align: right;\">\n",
       "      <th></th>\n",
       "      <th>wiki id</th>\n",
       "      <th>gender</th>\n",
       "      <th>name</th>\n",
       "    </tr>\n",
       "  </thead>\n",
       "  <tbody>\n",
       "    <tr>\n",
       "      <th>0</th>\n",
       "      <td>307</td>\n",
       "      <td>MALE</td>\n",
       "      <td>Abraham Lincoln</td>\n",
       "    </tr>\n",
       "    <tr>\n",
       "      <th>1</th>\n",
       "      <td>339</td>\n",
       "      <td>FEMALE</td>\n",
       "      <td>Ayn Rand</td>\n",
       "    </tr>\n",
       "    <tr>\n",
       "      <th>2</th>\n",
       "      <td>340</td>\n",
       "      <td>MALE</td>\n",
       "      <td>Alain Connes</td>\n",
       "    </tr>\n",
       "    <tr>\n",
       "      <th>3</th>\n",
       "      <td>344</td>\n",
       "      <td>MALE</td>\n",
       "      <td>Allan Dwan</td>\n",
       "    </tr>\n",
       "    <tr>\n",
       "      <th>4</th>\n",
       "      <td>595</td>\n",
       "      <td>MALE</td>\n",
       "      <td>Andre Agassi</td>\n",
       "    </tr>\n",
       "    <tr>\n",
       "      <th>5</th>\n",
       "      <td>628</td>\n",
       "      <td>MALE</td>\n",
       "      <td>Aldous Huxley</td>\n",
       "    </tr>\n",
       "    <tr>\n",
       "      <th>6</th>\n",
       "      <td>676</td>\n",
       "      <td>MALE</td>\n",
       "      <td>Andrei Tarkovsky</td>\n",
       "    </tr>\n",
       "    <tr>\n",
       "      <th>7</th>\n",
       "      <td>700</td>\n",
       "      <td>MALE</td>\n",
       "      <td>Arthur Schopenhauer</td>\n",
       "    </tr>\n",
       "    <tr>\n",
       "      <th>8</th>\n",
       "      <td>711</td>\n",
       "      <td>MALE</td>\n",
       "      <td>Albert Sidney Johnston</td>\n",
       "    </tr>\n",
       "    <tr>\n",
       "      <th>9</th>\n",
       "      <td>736</td>\n",
       "      <td>MALE</td>\n",
       "      <td>Albert Einstein</td>\n",
       "    </tr>\n",
       "  </tbody>\n",
       "</table>\n",
       "</div>"
      ],
      "text/plain": [
       "   wiki id  gender                    name\n",
       "0      307    MALE         Abraham Lincoln\n",
       "1      339  FEMALE                Ayn Rand\n",
       "2      340    MALE            Alain Connes\n",
       "3      344    MALE              Allan Dwan\n",
       "4      595    MALE            Andre Agassi\n",
       "5      628    MALE           Aldous Huxley\n",
       "6      676    MALE        Andrei Tarkovsky\n",
       "7      700    MALE     Arthur Schopenhauer\n",
       "8      711    MALE  Albert Sidney Johnston\n",
       "9      736    MALE         Albert Einstein"
      ]
     },
     "execution_count": 2,
     "metadata": {},
     "output_type": "execute_result"
    }
   ],
   "source": [
    "gender_label_table = pd.read_csv(\"data/wiki.genders.txt\", sep='\\t')\n",
    "gender_label_table.head(10)"
   ]
  },
  {
   "cell_type": "code",
   "execution_count": 3,
   "metadata": {},
   "outputs": [
    {
     "data": {
      "text/plain": [
       "862171"
      ]
     },
     "execution_count": 3,
     "metadata": {},
     "output_type": "execute_result"
    }
   ],
   "source": [
    "wiki_ids_with_gender = set([str(x) for x in gender_label_table[\"wiki id\"]])\n",
    "len(gender_label_table)"
   ]
  },
  {
   "cell_type": "code",
   "execution_count": 4,
   "metadata": {},
   "outputs": [],
   "source": [
    "is_male = {}\n",
    "for _, row in gender_label_table.iterrows():\n",
    "    is_male[str(row[\"wiki id\"])] = (row[\"gender\"] == 'MALE')"
   ]
  },
  {
   "cell_type": "code",
   "execution_count": 5,
   "metadata": {},
   "outputs": [
    {
     "data": {
      "text/plain": [
       "True"
      ]
     },
     "execution_count": 5,
     "metadata": {},
     "output_type": "execute_result"
    }
   ],
   "source": [
    "is_male[\"700\"]"
   ]
  },
  {
   "cell_type": "code",
   "execution_count": 6,
   "metadata": {},
   "outputs": [
    {
     "data": {
      "application/vnd.jupyter.widget-view+json": {
       "model_id": "e92857b6359346d39e2724c1ef3b516f",
       "version_major": 2,
       "version_minor": 0
      },
      "text/html": [
       "<p>Failed to display Jupyter Widget of type <code>IntText</code>.</p>\n",
       "<p>\n",
       "  If you're reading this message in the Jupyter Notebook or JupyterLab Notebook, it may mean\n",
       "  that the widgets JavaScript is still loading. If this message persists, it\n",
       "  likely means that the widgets JavaScript library is either not installed or\n",
       "  not enabled. See the <a href=\"https://ipywidgets.readthedocs.io/en/stable/user_install.html\">Jupyter\n",
       "  Widgets Documentation</a> for setup instructions.\n",
       "</p>\n",
       "<p>\n",
       "  If you're reading this message in another frontend (for example, a static\n",
       "  rendering on GitHub or <a href=\"https://nbviewer.jupyter.org/\">NBViewer</a>),\n",
       "  it may mean that your frontend doesn't currently support widgets.\n",
       "</p>\n"
      ],
      "text/plain": [
       "IntText(value=0, description='Articles')"
      ]
     },
     "metadata": {},
     "output_type": "display_data"
    },
    {
     "data": {
      "application/vnd.jupyter.widget-view+json": {
       "model_id": "d47269160d964169b24c344292ab9be2",
       "version_major": 2,
       "version_minor": 0
      },
      "text/html": [
       "<p>Failed to display Jupyter Widget of type <code>IntText</code>.</p>\n",
       "<p>\n",
       "  If you're reading this message in the Jupyter Notebook or JupyterLab Notebook, it may mean\n",
       "  that the widgets JavaScript is still loading. If this message persists, it\n",
       "  likely means that the widgets JavaScript library is either not installed or\n",
       "  not enabled. See the <a href=\"https://ipywidgets.readthedocs.io/en/stable/user_install.html\">Jupyter\n",
       "  Widgets Documentation</a> for setup instructions.\n",
       "</p>\n",
       "<p>\n",
       "  If you're reading this message in another frontend (for example, a static\n",
       "  rendering on GitHub or <a href=\"https://nbviewer.jupyter.org/\">NBViewer</a>),\n",
       "  it may mean that your frontend doesn't currently support widgets.\n",
       "</p>\n"
      ],
      "text/plain": [
       "IntText(value=0, description='Matching Articles')"
      ]
     },
     "metadata": {},
     "output_type": "display_data"
    },
    {
     "data": {
      "application/vnd.jupyter.widget-view+json": {
       "model_id": "28670ef7b9e5476bbb3cf2dd1b1a1918",
       "version_major": 2,
       "version_minor": 0
      },
      "text/html": [
       "<p>Failed to display Jupyter Widget of type <code>FloatProgress</code>.</p>\n",
       "<p>\n",
       "  If you're reading this message in the Jupyter Notebook or JupyterLab Notebook, it may mean\n",
       "  that the widgets JavaScript is still loading. If this message persists, it\n",
       "  likely means that the widgets JavaScript library is either not installed or\n",
       "  not enabled. See the <a href=\"https://ipywidgets.readthedocs.io/en/stable/user_install.html\">Jupyter\n",
       "  Widgets Documentation</a> for setup instructions.\n",
       "</p>\n",
       "<p>\n",
       "  If you're reading this message in another frontend (for example, a static\n",
       "  rendering on GitHub or <a href=\"https://nbviewer.jupyter.org/\">NBViewer</a>),\n",
       "  it may mean that your frontend doesn't currently support widgets.\n",
       "</p>\n"
      ],
      "text/plain": [
       "FloatProgress(value=0.0, max=17773690.0)"
      ]
     },
     "metadata": {},
     "output_type": "display_data"
    },
    {
     "name": "stderr",
     "output_type": "stream",
     "text": [
      "IOPub message rate exceeded.\n",
      "The notebook server will temporarily stop sending output\n",
      "to the client in order to avoid crashing it.\n",
      "To change this limit, set the config variable\n",
      "`--NotebookApp.iopub_msg_rate_limit`.\n",
      "\n",
      "Current values:\n",
      "NotebookApp.iopub_msg_rate_limit=1000.0 (msgs/sec)\n",
      "NotebookApp.rate_limit_window=3.0 (secs)\n",
      "\n",
      "IOPub message rate exceeded.\n",
      "The notebook server will temporarily stop sending output\n",
      "to the client in order to avoid crashing it.\n",
      "To change this limit, set the config variable\n",
      "`--NotebookApp.iopub_msg_rate_limit`.\n",
      "\n",
      "Current values:\n",
      "NotebookApp.iopub_msg_rate_limit=1000.0 (msgs/sec)\n",
      "NotebookApp.rate_limit_window=3.0 (secs)\n",
      "\n",
      "IOPub message rate exceeded.\n",
      "The notebook server will temporarily stop sending output\n",
      "to the client in order to avoid crashing it.\n",
      "To change this limit, set the config variable\n",
      "`--NotebookApp.iopub_msg_rate_limit`.\n",
      "\n",
      "Current values:\n",
      "NotebookApp.iopub_msg_rate_limit=1000.0 (msgs/sec)\n",
      "NotebookApp.rate_limit_window=3.0 (secs)\n",
      "\n",
      "IOPub message rate exceeded.\n",
      "The notebook server will temporarily stop sending output\n",
      "to the client in order to avoid crashing it.\n",
      "To change this limit, set the config variable\n",
      "`--NotebookApp.iopub_msg_rate_limit`.\n",
      "\n",
      "Current values:\n",
      "NotebookApp.iopub_msg_rate_limit=1000.0 (msgs/sec)\n",
      "NotebookApp.rate_limit_window=3.0 (secs)\n",
      "\n",
      "IOPub message rate exceeded.\n",
      "The notebook server will temporarily stop sending output\n",
      "to the client in order to avoid crashing it.\n",
      "To change this limit, set the config variable\n",
      "`--NotebookApp.iopub_msg_rate_limit`.\n",
      "\n",
      "Current values:\n",
      "NotebookApp.iopub_msg_rate_limit=1000.0 (msgs/sec)\n",
      "NotebookApp.rate_limit_window=3.0 (secs)\n",
      "\n",
      "IOPub message rate exceeded.\n",
      "The notebook server will temporarily stop sending output\n",
      "to the client in order to avoid crashing it.\n",
      "To change this limit, set the config variable\n",
      "`--NotebookApp.iopub_msg_rate_limit`.\n",
      "\n",
      "Current values:\n",
      "NotebookApp.iopub_msg_rate_limit=1000.0 (msgs/sec)\n",
      "NotebookApp.rate_limit_window=3.0 (secs)\n",
      "\n",
      "IOPub message rate exceeded.\n",
      "The notebook server will temporarily stop sending output\n",
      "to the client in order to avoid crashing it.\n",
      "To change this limit, set the config variable\n",
      "`--NotebookApp.iopub_msg_rate_limit`.\n",
      "\n",
      "Current values:\n",
      "NotebookApp.iopub_msg_rate_limit=1000.0 (msgs/sec)\n",
      "NotebookApp.rate_limit_window=3.0 (secs)\n",
      "\n",
      "IOPub message rate exceeded.\n",
      "The notebook server will temporarily stop sending output\n",
      "to the client in order to avoid crashing it.\n",
      "To change this limit, set the config variable\n",
      "`--NotebookApp.iopub_msg_rate_limit`.\n",
      "\n",
      "Current values:\n",
      "NotebookApp.iopub_msg_rate_limit=1000.0 (msgs/sec)\n",
      "NotebookApp.rate_limit_window=3.0 (secs)\n",
      "\n",
      "IOPub message rate exceeded.\n",
      "The notebook server will temporarily stop sending output\n",
      "to the client in order to avoid crashing it.\n",
      "To change this limit, set the config variable\n",
      "`--NotebookApp.iopub_msg_rate_limit`.\n",
      "\n",
      "Current values:\n",
      "NotebookApp.iopub_msg_rate_limit=1000.0 (msgs/sec)\n",
      "NotebookApp.rate_limit_window=3.0 (secs)\n",
      "\n",
      "IOPub message rate exceeded.\n",
      "The notebook server will temporarily stop sending output\n",
      "to the client in order to avoid crashing it.\n",
      "To change this limit, set the config variable\n",
      "`--NotebookApp.iopub_msg_rate_limit`.\n",
      "\n",
      "Current values:\n",
      "NotebookApp.iopub_msg_rate_limit=1000.0 (msgs/sec)\n",
      "NotebookApp.rate_limit_window=3.0 (secs)\n",
      "\n",
      "IOPub message rate exceeded.\n",
      "The notebook server will temporarily stop sending output\n",
      "to the client in order to avoid crashing it.\n",
      "To change this limit, set the config variable\n",
      "`--NotebookApp.iopub_msg_rate_limit`.\n",
      "\n",
      "Current values:\n",
      "NotebookApp.iopub_msg_rate_limit=1000.0 (msgs/sec)\n",
      "NotebookApp.rate_limit_window=3.0 (secs)\n",
      "\n",
      "IOPub message rate exceeded.\n",
      "The notebook server will temporarily stop sending output\n",
      "to the client in order to avoid crashing it.\n",
      "To change this limit, set the config variable\n",
      "`--NotebookApp.iopub_msg_rate_limit`.\n",
      "\n",
      "Current values:\n",
      "NotebookApp.iopub_msg_rate_limit=1000.0 (msgs/sec)\n",
      "NotebookApp.rate_limit_window=3.0 (secs)\n",
      "\n",
      "IOPub message rate exceeded.\n",
      "The notebook server will temporarily stop sending output\n",
      "to the client in order to avoid crashing it.\n",
      "To change this limit, set the config variable\n",
      "`--NotebookApp.iopub_msg_rate_limit`.\n",
      "\n",
      "Current values:\n",
      "NotebookApp.iopub_msg_rate_limit=1000.0 (msgs/sec)\n",
      "NotebookApp.rate_limit_window=3.0 (secs)\n",
      "\n"
     ]
    },
    {
     "name": "stdout",
     "output_type": "stream",
     "text": [
      "Articles: 17773690 Time: 1406.9675903320312 seconds\n"
     ]
    }
   ],
   "source": [
    "p = ET.iterparse(\"data/enwiki-20170820-pages-articles.xml\", \n",
    "                 events=(\"start\", \"end\"))\n",
    "\n",
    "start = time.time()\n",
    "article_count = 0\n",
    "root = None\n",
    "f = FloatProgress(min=0, max=17773690)\n",
    "t = IntText(value=0, description=\"Articles\")\n",
    "m = IntText(value=0, description=\"Matching Articles\")\n",
    "display(t, m, f)\n",
    "\n",
    "article = None\n",
    "id = None\n",
    "\n",
    "article_writer = open(\"data/gendered-labeled-articles\", \"w\")\n",
    "\n",
    "try:\n",
    "    is_current_article_labeled = False\n",
    "    for event, elem in p:\n",
    "        if root == None:\n",
    "            root = elem\n",
    "        if event == \"start\" and elem.tag == '{http://www.mediawiki.org/xml/export-0.10/}page':\n",
    "            id = None\n",
    "        if id == None and event == \"end\" and elem.tag == '{http://www.mediawiki.org/xml/export-0.10/}id':\n",
    "            is_current_article_labeled = (elem.text in wiki_ids_with_gender)\n",
    "            id = elem.text\n",
    "        if event == \"end\" and elem.tag == '{http://www.mediawiki.org/xml/export-0.10/}text':\n",
    "            article_count += 1\n",
    "            if article_count % 1000 == 0:\n",
    "                f.value = article_count\n",
    "                t.value = article_count\n",
    "            if is_current_article_labeled and elem.text:\n",
    "                m.value += 1 \n",
    "                article = elem.text\n",
    "                article_writer.write(id)\n",
    "                article_writer.write(' ')\n",
    "                article_writer.write(article.replace('\\n', ' '))\n",
    "                article_writer.write('\\n')\n",
    "            root.clear()\n",
    "finally:\n",
    "    article_writer.close()\n",
    "    print(\"Articles:\", article_count, \"Time:\", (time.time() - start), \"seconds\")"
   ]
  },
  {
   "cell_type": "markdown",
   "metadata": {},
   "source": [
    "Once this completes, we have a file where each line starts with an article ID and is followed by the full markdown text of the article.  For speed, I'm cleaning it up with this command line chain of seds:\n",
    "\n",
    "```\n",
    "cat gendered-labeled-articles | sed 's/[^a-zA-Z0-9]/ /g' | \\\n",
    "sed 's/\\s\\{2,\\}/ /g' | \\\n",
    "tr '[:upper:]' '[:lower:]' > \\\n",
    "gendered-labeled-articles.stripped\n",
    "```\n",
    "\n",
    "That takes about 17.5 minutes to run.  This reduces the file from 5.8GB to 5.1GB.\n",
    "\n",
    "# Creating a Vocabulary"
   ]
  },
  {
   "cell_type": "code",
   "execution_count": 44,
   "metadata": {},
   "outputs": [
    {
     "data": {
      "application/vnd.jupyter.widget-view+json": {
       "model_id": "688b287e830a45d599d4e290c4dd3717",
       "version_major": 2,
       "version_minor": 0
      },
      "text/plain": [
       "A Jupyter Widget"
      ]
     },
     "metadata": {},
     "output_type": "display_data"
    },
    {
     "data": {
      "application/vnd.jupyter.widget-view+json": {
       "model_id": "a5b40b93957d4548bdb030f6bff151aa",
       "version_major": 2,
       "version_minor": 0
      },
      "text/plain": [
       "A Jupyter Widget"
      ]
     },
     "metadata": {},
     "output_type": "display_data"
    },
    {
     "name": "stdout",
     "output_type": "stream",
     "text": [
      "Articles: 850399 Time: 430.8352212905884 seconds\n"
     ]
    }
   ],
   "source": [
    "#Don't run this\n",
    "\n",
    "fp = FloatProgress(min=0, max=850399)\n",
    "uw = IntText(value=0, description=\"Unique\")\n",
    "display(fp, uw)\n",
    "article_count = 0\n",
    "word_count = 0\n",
    "\n",
    "\n",
    "article_ids = set()\n",
    "vocab_mapping = {}\n",
    "vocab_writer = open(\"data/vocab\", \"w\")\n",
    "\n",
    "start = time.time()\n",
    "try:\n",
    "    with open(\"data/gendered-labeled-articles.stripped\", 'r') as f:\n",
    "        for line in f:\n",
    "            article_count += 1\n",
    "            if article_count % 1000 == 0:\n",
    "                fp.value = article_count\n",
    "                uw.value = word_count\n",
    "            words = line.split()\n",
    "            article_ids.add(words[0])\n",
    "            for word in words[1:]:\n",
    "                val = vocab_mapping.get(word, -1)\n",
    "                if val == -1:\n",
    "                    word_count += 1\n",
    "                    vocab_mapping[word] = word_count\n",
    "                    vocab_writer.write(word + \" \" + str(word_count) + \"\\n\")\n",
    "\n",
    "finally:        \n",
    "    vocab_writer.close()\n",
    "    print(\"Articles:\", article_count, \"Time:\", (time.time() - start), \"seconds\")"
   ]
  },
  {
   "cell_type": "code",
   "execution_count": 31,
   "metadata": {},
   "outputs": [
    {
     "data": {
      "text/plain": [
       "7869208"
      ]
     },
     "execution_count": 31,
     "metadata": {},
     "output_type": "execute_result"
    }
   ],
   "source": [
    "len(vocab_mapping)"
   ]
  },
  {
   "cell_type": "code",
   "execution_count": null,
   "metadata": {
    "collapsed": true
   },
   "outputs": [],
   "source": [
    "fp = FloatProgress(min=0, max=850399)\n",
    "male_articles = IntText(value=0, description=\"Unique\")\n",
    "female_articles = IntText(value=0, description=\"Unique\")\n",
    "display(fp, male_articles, female_articles)\n",
    "article_count = 0\n",
    "\n",
    "male_counter = collections.Counter()\n",
    "female_counter = collections.Counter()\n",
    "\n",
    "start = time.time()\n",
    "try:\n",
    "    with open(\"data/gendered-labeled-articles.stripped\", 'r') as f:\n",
    "        for line in f:\n",
    "            article_count += 1\n",
    "            if article_count % 1000 == 0:\n",
    "                fp.value = article_count\n",
    "            words = line.split()\n",
    "            if is_male[words[0]]:\n",
    "                male_articles.value += 1\n",
    "                male_counter.update(words[1:])\n",
    "            else:\n",
    "                female_articles.value += 1\n",
    "                female_counter.update(words[1:])\n",
    "finally:    \n",
    "    print(\"Articles:\", article_count, \"Time:\", (time.time() - start), \"seconds\")"
   ]
  },
  {
   "cell_type": "code",
   "execution_count": 159,
   "metadata": {},
   "outputs": [
    {
     "data": {
      "text/plain": [
       "[('the', 33002375),\n",
       " ('of', 21415990),\n",
       " ('in', 17662382),\n",
       " ('and', 15475107),\n",
       " ('ref', 14295257),\n",
       " ('a', 11019194),\n",
       " ('to', 9513980),\n",
       " ('category', 7941841),\n",
       " ('he', 7129256),\n",
       " ('was', 7016012),\n",
       " ('s', 6793865),\n",
       " ('http', 5975513),\n",
       " ('for', 5616749),\n",
       " ('his', 5107211),\n",
       " ('date', 4916758),\n",
       " ('name', 4871993),\n",
       " ('on', 4764056),\n",
       " ('com', 4762103),\n",
       " ('www', 4710888),\n",
       " ('title', 4597584),\n",
       " ('at', 4236983),\n",
       " ('as', 4095686),\n",
       " ('with', 3911545),\n",
       " ('cite', 3794486),\n",
       " ('url', 3630899)]"
      ]
     },
     "execution_count": 159,
     "metadata": {},
     "output_type": "execute_result"
    }
   ],
   "source": [
    "all_counter = male_counter + female_counter\n",
    "all_counter.most_common(25)"
   ]
  },
  {
   "cell_type": "code",
   "execution_count": 167,
   "metadata": {
    "collapsed": true
   },
   "outputs": [],
   "source": [
    "class PMICalculator:\n",
    "    \n",
    "    def __init__(self, counter1, counter2, n1, n2):\n",
    "        self.counter1 = counter1\n",
    "        self.counter2 = counter2\n",
    "        self.n1 = n1\n",
    "        self.n2 = n2\n",
    "        self.lpc1 = log(n1 / (n1 + n2))\n",
    "\n",
    "    def pmi(self, word):\n",
    "        try:\n",
    "            return (log(self.counter1[word]) - \n",
    "            self.lpc1 -\n",
    "            log(self.counter1[word] + self.counter2[word]))\n",
    "        except ValueError:\n",
    "            return 0\n"
   ]
  },
  {
   "cell_type": "code",
   "execution_count": 168,
   "metadata": {
    "collapsed": true
   },
   "outputs": [],
   "source": [
    "pc = PMICalculator(female_counter, male_counter, 130576, 718413)"
   ]
  },
  {
   "cell_type": "code",
   "execution_count": 156,
   "metadata": {},
   "outputs": [
    {
     "data": {
      "text/plain": [
       "-1.9380632450542024"
      ]
     },
     "execution_count": 156,
     "metadata": {},
     "output_type": "execute_result"
    }
   ],
   "source": [
    "pc.pmi(\"his\")"
   ]
  },
  {
   "cell_type": "code",
   "execution_count": 122,
   "metadata": {},
   "outputs": [
    {
     "data": {
      "text/plain": [
       "1.7940272570088585"
      ]
     },
     "execution_count": 122,
     "metadata": {},
     "output_type": "execute_result"
    }
   ],
   "source": [
    "pc.pmi(\"she\")"
   ]
  },
  {
   "cell_type": "code",
   "execution_count": 157,
   "metadata": {},
   "outputs": [
    {
     "data": {
      "text/plain": [
       "-0.2526927571090951"
      ]
     },
     "execution_count": 157,
     "metadata": {},
     "output_type": "execute_result"
    }
   ],
   "source": [
    "pc.pmi(\"president\")"
   ]
  },
  {
   "cell_type": "code",
   "execution_count": 163,
   "metadata": {},
   "outputs": [
    {
     "data": {
      "text/plain": [
       "[('articleid', 16329),\n",
       " ('janet', 16321),\n",
       " ('notice', 16319),\n",
       " ('guggenheim', 16317),\n",
       " ('assistance', 16314)]"
      ]
     },
     "execution_count": 163,
     "metadata": {},
     "output_type": "execute_result"
    }
   ],
   "source": [
    "top_words = all_counter.most_common(5000)\n",
    "top_words[-5:]"
   ]
  },
  {
   "cell_type": "code",
   "execution_count": 169,
   "metadata": {
    "collapsed": true
   },
   "outputs": [],
   "source": [
    "top_words_with_pmi = [(p[0], p[1], pc.pmi(p[0])) for p in top_words]"
   ]
  },
  {
   "cell_type": "code",
   "execution_count": 170,
   "metadata": {},
   "outputs": [
    {
     "data": {
      "text/plain": [
       "[('the', 33002375, -0.01567901633304558),\n",
       " ('of', 21415990, -0.07553589804025762),\n",
       " ('in', 17662382, 0.05009503190882114),\n",
       " ('and', 15475107, 0.0578662880422236),\n",
       " ('ref', 14295257, 0.1588285049494047),\n",
       " ('a', 11019194, 0.02328892943398131),\n",
       " ('to', 9513980, -0.040419272454229827),\n",
       " ('category', 7941841, -0.01686646715947404),\n",
       " ('he', 7129256, -2.6731196230413072),\n",
       " ('was', 7016012, -0.09963076101940693),\n",
       " ('s', 6793865, 0.17275996452856113),\n",
       " ('http', 5975513, 0.2148190846308058),\n",
       " ('for', 5616749, 0.05547279591902843),\n",
       " ('his', 5107211, -1.9380632450542024),\n",
       " ('date', 4916758, 0.14920744893098892),\n",
       " ('name', 4871993, 0.2154168305493851),\n",
       " ('on', 4764056, 0.03163985622590815),\n",
       " ('com', 4762103, 0.24475614756991604),\n",
       " ('www', 4710888, 0.23503207110436897),\n",
       " ('title', 4597584, 0.19142651981677616),\n",
       " ('at', 4236983, 0.13097146796229175),\n",
       " ('as', 4095686, 0.01327391677503087),\n",
       " ('with', 3911545, 0.039304470017720305),\n",
       " ('cite', 3794486, 0.2201929751593159),\n",
       " ('url', 3630899, 0.25686930058141577),\n",
       " ('from', 3499427, -0.0023047351089893198),\n",
       " ('by', 3182037, 0.007897006202016499),\n",
       " ('web', 3126192, 0.3121932315781937),\n",
       " ('1', 2701694, -0.14393122170507588),\n",
       " ('accessdate', 2568261, 0.24376808381423487),\n",
       " ('first', 2561652, 0.0871357504705319),\n",
       " ('2', 2329644, -0.15677249311706198),\n",
       " ('news', 2314887, 0.21066696699008247),\n",
       " ('publisher', 2302773, 0.15442906384846466),\n",
       " ('is', 2297528, 0.20565457893347983),\n",
       " ('0', 2256845, -0.5912258869102693),\n",
       " ('new', 2249433, 0.09734869927637746),\n",
       " ('that', 2203161, 0.0033026906433555325),\n",
       " ('an', 2032515, 0.03777229100091972),\n",
       " ('birth', 1762902, 0.1292321800003382),\n",
       " ('year', 1708816, -0.0268699711530882),\n",
       " ('people', 1690455, 0.18334688660557852),\n",
       " ('html', 1608950, 0.18484335287607578),\n",
       " ('2012', 1603414, 0.2991018920705706),\n",
       " ('university', 1570614, -0.010366345817356404),\n",
       " ('3', 1565308, -0.14477734495669559),\n",
       " ('american', 1565299, 0.25928428149764393),\n",
       " ('2011', 1508833, 0.23848852100496565),\n",
       " ('football', 1486476, -2.077687440042485),\n",
       " ('2010', 1466808, 0.2583944672011089),\n",
       " ('2013', 1463022, 0.2616975556065455),\n",
       " ('work', 1462981, 0.27240300065901835),\n",
       " ('after', 1454521, -0.16356444556218896),\n",
       " ('united', 1444746, -0.35633510499476273),\n",
       " ('org', 1435435, 0.2602325723823995),\n",
       " ('she', 1412916, 1.7940272570088585),\n",
       " ('br', 1383297, -0.13058300700687298),\n",
       " ('world', 1372448, 0.26413963125452256),\n",
       " ('align', 1370705, 0.04350112207600887),\n",
       " ('last', 1328746, 0.1726509028110943),\n",
       " ('https', 1322711, 0.23594362758203324),\n",
       " ('her', 1308263, 1.7244667675788659),\n",
       " ('also', 1302201, 0.0678338166193786),\n",
       " ('2009', 1294763, 0.23754978452437037),\n",
       " ('death', 1284501, -0.00929353040125136),\n",
       " ('4', 1277058, -0.0038501287610390733),\n",
       " ('had', 1267840, -0.03431094067470575),\n",
       " ('2008', 1250792, 0.2527446062647165),\n",
       " ('c', 1233626, -1.0698052654783705),\n",
       " ('film', 1216694, 0.6540938500841254),\n",
       " ('small', 1211460, -0.5437034631614104),\n",
       " ('10', 1207660, 0.0542042536634284),\n",
       " ('2014', 1194743, 0.2794617467121583),\n",
       " ('team', 1186786, -0.43491597301511575),\n",
       " ('players', 1184811, -1.3743263461055637),\n",
       " ('style', 1179070, 0.12460777108622523),\n",
       " ('it', 1176876, 0.09046608704939096),\n",
       " ('center', 1157147, 0.07932576431351812),\n",
       " ('de', 1155191, -0.004328620412589856),\n",
       " ('who', 1136128, 0.02817638059608818),\n",
       " ('which', 1129258, -0.012420445370381117),\n",
       " ('place', 1128329, 0.05312214435896756),\n",
       " ('national', 1106439, -0.1491921232564657),\n",
       " ('season', 1106166, -0.9665714502601439),\n",
       " ('2007', 1096185, 0.2130283435544449),\n",
       " ('5', 1095111, -0.06873419001224157),\n",
       " ('2015', 1085726, 0.29519143922679447),\n",
       " ('6', 1081388, 0.12393003832192306),\n",
       " ('2016', 1057257, 0.28357493115668575),\n",
       " ('league', 1055646, -1.6117515577923154),\n",
       " ('years', 1046408, -0.044023279736116194),\n",
       " ('uk', 1043161, 0.02739496372279504),\n",
       " ('one', 1040838, -0.004022963922693634),\n",
       " ('may', 1030614, 0.09705063058221164),\n",
       " ('states', 1028717, -0.21002658215062375),\n",
       " ('i', 1007547, 0.23074931083673178),\n",
       " ('york', 1002142, 0.1581647854585455),\n",
       " ('f', 982473, -1.340643957101193),\n",
       " ('12', 968810, -0.00027305113767006617),\n",
       " ('11', 951352, 0.02118862845298075),\n",
       " ('born', 946970, 0.15358599002867557),\n",
       " ('id', 941998, -0.026138793512860303),\n",
       " ('p', 933363, -0.140479841231949),\n",
       " ('january', 928124, 0.051791589779416114),\n",
       " ('march', 921257, 0.07863111738887874),\n",
       " ('june', 909192, 0.0856624974724145),\n",
       " ('july', 906988, 0.05755768108312331),\n",
       " ('co', 902007, 0.1471197929438084),\n",
       " ('2006', 897967, 0.21809638506517004),\n",
       " ('john', 896889, -0.6131336682794188),\n",
       " ('august', 895227, 0.05885979868645386),\n",
       " ('has', 893557, 0.32669033293120364),\n",
       " ('book', 888858, 0.13836089241677563),\n",
       " ('career', 879753, -0.12356478572158913),\n",
       " ('this', 867160, -0.04428719660739411),\n",
       " ('time', 864520, 0.07378843175194127),\n",
       " ('were', 861773, -0.05221570272570375),\n",
       " ('7', 856051, 0.000788465448209763),\n",
       " ('october', 854982, 0.11409251584630375),\n",
       " ('april', 850826, 0.10644404703805144),\n",
       " ('september', 847090, 0.07549133946888453),\n",
       " ('defaultsort', 840583, -0.001371129262583537),\n",
       " ('state', 840276, -0.1881661257747087),\n",
       " ('all', 832462, -0.03710070233712237),\n",
       " ('two', 823132, -0.019913913584778342),\n",
       " ('school', 810710, 0.08277557585027395),\n",
       " ('but', 804831, -0.10020337631565646),\n",
       " ('references', 800767, 0.029715246712102683),\n",
       " ('november', 799719, 0.09901359624060824),\n",
       " ('december', 798900, 0.07534709088040259),\n",
       " ('archive', 796788, 0.21302463085850398),\n",
       " ('books', 794845, 0.08712337481262722),\n",
       " ('8', 789268, -0.09110787311945678),\n",
       " ('left', 788871, -0.15333296229120918),\n",
       " ('be', 788259, 0.03614628559444455),\n",
       " ('image', 781739, 0.03665713237822743),\n",
       " ('february', 773384, 0.1163674424860659),\n",
       " ('births', 766636, -0.03298629620300808),\n",
       " ('not', 764774, 0.023113994448776154),\n",
       " ('life', 762722, 0.32551204235221043),\n",
       " ('series', 757484, 0.5361466916606226),\n",
       " ('age', 751068, 0.13952166841466962),\n",
       " ('city', 750261, -0.1670021374086712),\n",
       " ('no', 744490, 0.12252384512125936),\n",
       " ('background', 726905, 0.09912311740188606),\n",
       " ('2005', 725704, 0.2232067098132262),\n",
       " ('9', 725174, -0.06748100781859101),\n",
       " ('during', 722012, -0.21229917395122655),\n",
       " ('party', 721309, -0.1815519824585703),\n",
       " ('music', 717274, 0.442550534527685),\n",
       " ('2004', 691740, 0.24072248566492505),\n",
       " ('author', 684498, 0.22656299401563018),\n",
       " ('reflist', 679140, 0.030083701359194137),\n",
       " ('college', 678665, -0.21487754496254752),\n",
       " ('war', 676920, -0.742177360973816),\n",
       " ('him', 661429, -1.341024763902114),\n",
       " ('15', 659706, -0.004474062347471275),\n",
       " ('isbn', 655674, 0.08000184157419099),\n",
       " ('20', 651446, 0.017467061292084196),\n",
       " ('english', 651143, -0.043645375974650236),\n",
       " ('13', 650998, -0.02684035634941928),\n",
       " ('before', 649409, -0.3000690035459197),\n",
       " ('when', 646765, 0.04047135295270188),\n",
       " ('14', 646000, -0.02584479379864746),\n",
       " ('page', 634519, -0.06484191554681296),\n",
       " ('16', 625668, -0.04003949098068027),\n",
       " ('2017', 622511, 0.23472316768183177),\n",
       " ('london', 620300, 0.0990997651172627),\n",
       " ('club', 619491, -0.8615483149594478),\n",
       " ('later', 615550, -0.04313266650613734),\n",
       " ('m', 614458, 0.3197227793431061),\n",
       " ('their', 608762, 0.11798951855827866),\n",
       " ('british', 604724, -0.09434528138392828),\n",
       " ('award', 602853, 0.5849621686547586),\n",
       " ('where', 600659, 0.05325916347435111),\n",
       " ('living', 597928, 0.3340901066447266),\n",
       " ('up', 590735, 0.19126727291944867),\n",
       " ('17', 589449, -0.018461035426614814),\n",
       " ('jpg', 588926, 0.005001351049603642),\n",
       " ('history', 587171, -0.2599723382711314),\n",
       " ('other', 585331, 0.0424311827134094),\n",
       " ('d', 583408, -0.12233538881297434),\n",
       " ('cup', 580941, -0.3293254217509851),\n",
       " ('website', 579066, 0.462033682111338),\n",
       " ('2003', 576557, 0.21947086727047171),\n",
       " ('been', 576544, 0.08103180954963562),\n",
       " ('became', 572732, -0.053372685954611754),\n",
       " ('22', 571310, 0.01971502022735727),\n",
       " ('international', 570781, 0.09089066111362953),\n",
       " ('played', 569975, -0.4665867871845144),\n",
       " ('times', 564771, 0.19928878116204096),\n",
       " ('tv', 563389, 0.8424000234584401),\n",
       " ('infobox', 560102, 0.05891097287448943),\n",
       " ('house', 559718, 0.09399801264267893),\n",
       " ('18', 559415, 0.02785141039357164),\n",
       " ('21', 557688, 0.008828531154181363),\n",
       " ('19', 545898, 0.021304628528811875),\n",
       " ('press', 545136, 0.10583540227850641),\n",
       " ('against', 538518, -0.6896882099321502),\n",
       " ('they', 538336, 0.17146914340991337),\n",
       " ('or', 537453, 0.02324284928370801),\n",
       " ('2002', 537389, 0.21937885345501407),\n",
       " ('links', 536131, 0.10055880492942393),\n",
       " ('yes', 534911, 0.20178859144225214),\n",
       " ('best', 534519, 0.5316442536905424),\n",
       " ('women', 532471, 1.742348800649344),\n",
       " ('general', 532160, -0.6134173564843248),\n",
       " ('member', 531975, -0.10181993468658135),\n",
       " ('external', 525252, 0.09739942967908455),\n",
       " ('made', 525041, -0.1155809207634455),\n",
       " ('player', 521527, -0.768495906105727),\n",
       " ('century', 518676, 0.319071106479095),\n",
       " ('2000', 516553, 0.19904639224220944),\n",
       " ('second', 516166, -0.08028191553742836),\n",
       " ('25', 511470, 0.11398923829970187),\n",
       " ('30', 504716, 0.04593336842626883),\n",
       " ('about', 503346, 0.27498155909148814),\n",
       " ('south', 502673, -0.09638679755594204),\n",
       " ('have', 500744, 0.10389210532887638),\n",
       " ('24', 500636, 0.027733156994379726),\n",
       " ('three', 500147, -0.03183765132441252),\n",
       " ('2001', 498449, 0.1813667160443888),\n",
       " ('23', 497191, 0.04603028005475984),\n",
       " ('championship', 494173, -0.42708632540524505),\n",
       " ('games', 493492, 0.2259231292014281),\n",
       " ('article', 487767, 0.20705872416637483),\n",
       " ('then', 486323, -0.10560711973669079),\n",
       " ('end', 486067, -0.3191054953977339),\n",
       " ('htm', 485360, 0.10614894910018968),\n",
       " ('u', 482860, 0.06623248748961785),\n",
       " ('journal', 480304, 0.0052440090657874805),\n",
       " ('won', 479353, 0.34271661402523357),\n",
       " ('biography', 477350, -0.03332438274440186),\n",
       " ('over', 475141, -0.1417888407081378),\n",
       " ('awards', 473418, 0.5970027266796638),\n",
       " ('championships', 471997, 0.9001772462111255),\n",
       " ('early', 470822, 0.05491450645736684),\n",
       " ('26', 468624, 0.05026960801949265),\n",
       " ('27', 466604, 0.054365090769476154),\n",
       " ('st', 466602, -0.39330768997805876),\n",
       " ('28', 465311, 0.046872911384411964),\n",
       " ('family', 463907, 0.28344799212810123),\n",
       " ('england', 458178, -0.3397895845770602),\n",
       " ('men', 456609, -1.20502612940831),\n",
       " ('use', 453145, -0.11521435891350507),\n",
       " ('out', 452891, -0.04286109815156003),\n",
       " ('william', 448618, -0.6966641241267677),\n",
       " ('under', 448454, -0.31571023794932884),\n",
       " ('29', 448384, 0.05159852965180178),\n",
       " ('association', 447311, -0.3215632325562474),\n",
       " ('art', 445875, 0.3525812254737932),\n",
       " ('into', 444894, -0.07002341256617406),\n",
       " ('df', 443333, 0.09505770994714524),\n",
       " ('would', 443012, -0.08802091667335254),\n",
       " ('election', 441161, -0.15417284105377682),\n",
       " ('record', 436071, -0.2669130305861209),\n",
       " ('deaths', 434926, -0.35400189893948664),\n",
       " ('known', 433568, 0.08202743091084308),\n",
       " ('language', 433382, 0.2634440211917113),\n",
       " ('bbc', 430430, 0.019359609121305965),\n",
       " ('text', 426650, 0.16387249279562255),\n",
       " ('1999', 426044, 0.1932422963612055),\n",
       " ('more', 425113, 0.09191964763599891),\n",
       " ('county', 423892, -0.6136749309026968),\n",
       " ('high', 420260, -0.059894482621375644),\n",
       " ('most', 419656, 0.03205049884559941),\n",
       " ('la', 419558, 0.1653708317182705),\n",
       " ('president', 415390, -0.2526927571090951),\n",
       " ('only', 413853, -0.009936169444792142),\n",
       " ('album', 412972, 0.5667365480368041),\n",
       " ('file', 411893, -0.0985414022545239),\n",
       " ('us', 410420, 0.2726051454219256),\n",
       " ('php', 408837, 0.11168828969219646),\n",
       " ('list', 407133, 0.029057812142211148),\n",
       " ('died', 403735, -0.127133337431113),\n",
       " ('story', 403218, 0.28313034353687705),\n",
       " ('nbsp', 402898, 0.11467656586476771),\n",
       " ('location', 402826, 0.05661285498419666),\n",
       " ('sports', 402290, -0.1290124315399943),\n",
       " ('rowspan', 400349, 0.4271574821839952),\n",
       " ('class', 400001, 0.20524635241326195),\n",
       " ('are', 399721, 0.15481842118994393),\n",
       " ('1998', 393844, 0.1838930684189357),\n",
       " ('olympics', 389936, 0.6847357458314924),\n",
       " ('summer', 389508, 0.5974160128040626),\n",
       " ('children', 389031, 0.5645326797778871),\n",
       " ('james', 388615, -0.47680051034221727),\n",
       " ('t', 387823, 0.14956809530344373),\n",
       " ('term', 386831, -0.3068342298922584),\n",
       " ('baseball', 383461, -1.6511946166952391),\n",
       " ('its', 377208, -0.1390891252614619),\n",
       " ('colspan', 376415, -0.9602674738433716),\n",
       " ('control', 375293, 0.0330119980854402),\n",
       " ('b', 374499, -0.06521824050063074),\n",
       " ('served', 372067, -0.5322785260456566),\n",
       " ('george', 371851, -0.49667011661712657),\n",
       " ('en', 369448, 0.12995018462198082),\n",
       " ('until', 369183, -0.29085118937764776),\n",
       " ('australian', 368229, 0.22300462871470117),\n",
       " ('television', 365403, 0.7935787482680521),\n",
       " ('1997', 364832, 0.16824545266828217),\n",
       " ('e', 362868, -0.15060150107969505),\n",
       " ('google', 362689, -0.09558818340410191),\n",
       " ('1996', 361711, 0.1806252716979717),\n",
       " ('caption', 358396, 0.1616189815803839),\n",
       " ('j', 358284, -0.3135290714596355),\n",
       " ('flagicon', 357597, 0.5228721287331854),\n",
       " ('game', 356506, -0.6429478249628033),\n",
       " ('right', 353498, -0.06061406520394108),\n",
       " ('01', 353269, 0.1955606411575186),\n",
       " ('french', 353195, 0.10625824544109008),\n",
       " ('newspaper', 352411, 0.10763589000290352),\n",
       " ('members', 352382, -0.1921147470710629),\n",
       " ('while', 352021, 0.0015051368480811789),\n",
       " ('california', 351007, 0.2387167371547143),\n",
       " ('show', 349645, 0.6124818136241217),\n",
       " ('including', 348919, 0.11724622723768441),\n",
       " ('home', 348880, 0.10629270306729843),\n",
       " ('david', 348112, -0.35788080167749925),\n",
       " ('07', 348100, 0.1875986712993214),\n",
       " ('former', 347465, -0.16119054215261208),\n",
       " ('magazine', 346677, 0.5310561673420029),\n",
       " ('authority', 345268, 0.054156739056484327),\n",
       " ('director', 344119, 0.05328924013704217),\n",
       " ('sport', 343917, -0.3857633087906258),\n",
       " ('08', 343480, 0.20229025249813581),\n",
       " ('law', 341030, -0.08081381760215045),\n",
       " ('09', 340012, 0.1830012631542477),\n",
       " ('pages', 339745, -0.05106586748459385),\n",
       " ('day', 338044, 0.06623425159363805),\n",
       " ('06', 337642, 0.19480955607549966),\n",
       " ('ii', 335635, -0.2716153945816302),\n",
       " ('group', 333741, 0.07073006907756607),\n",
       " ('part', 332822, 0.07745478830617714),\n",
       " ('son', 332553, -0.32893890141742155),\n",
       " ('05', 332223, 0.2114329371602519),\n",
       " ('company', 331749, -0.04985845922748844),\n",
       " ('04', 331274, 0.2125971059042957),\n",
       " ('coach', 331223, -0.945625374097725),\n",
       " ('order', 330893, -0.19079731548169754),\n",
       " ('grand', 330452, -0.17386729362188902),\n",
       " ('royal', 329899, -0.16417093064560717),\n",
       " ('australia', 329734, 0.10682318116265854),\n",
       " ('03', 329445, 0.24745195578610613),\n",
       " ('father', 329135, 0.11934050851115785),\n",
       " ('german', 327501, -0.1462026870820381),\n",
       " ('31', 326274, -0.005024697555926494),\n",
       " ('1995', 326193, 0.16709282154311644),\n",
       " ('v', 325498, -0.012263018010616022),\n",
       " ('archivedate', 325454, 0.36370243825926707),\n",
       " ('army', 325385, -1.3747868885046781),\n",
       " ('archiveurl', 325065, 0.363703447461333),\n",
       " ('alumni', 324994, 0.12050497720059994),\n",
       " ('y', 324544, -0.03690262642258446),\n",
       " ('many', 322471, 0.020997074532434823),\n",
       " ('west', 321633, -0.27152763524504664),\n",
       " ('male', 320665, -1.769122533823035),\n",
       " ('l', 320661, -0.008127824169736897),\n",
       " ('four', 320599, -0.059336420286561165),\n",
       " ('ndash', 319676, -0.43389726911839865),\n",
       " ('start', 319596, -0.41717891726416667),\n",
       " ('medal', 318981, 0.07728890588792403),\n",
       " ('published', 318706, 0.10765414660510153),\n",
       " ('well', 318403, 0.11395834694709883),\n",
       " ('star', 317484, 0.3086698135486472),\n",
       " ('being', 317093, -0.07154815222380861),\n",
       " ('win', 316796, -0.500997615931766),\n",
       " ('married', 316120, 0.4251156630049806),\n",
       " ('there', 315716, -0.020570989653858618),\n",
       " ('1994', 315072, 0.15660516471935004),\n",
       " ('man', 314409, -0.30381741220812764),\n",
       " ('role', 314231, 0.7853637704057821),\n",
       " ('position', 312943, -0.7273241062608395),\n",
       " ('north', 312923, -0.33717700570532116),\n",
       " ('top', 312651, 0.3095723365414713),\n",
       " ('02', 312562, 0.22680245590703763),\n",
       " ('robert', 311871, -0.5167425366290033),\n",
       " ('stub', 311818, -0.006131511244316101),\n",
       " ('thomas', 308596, -0.6360788146218095),\n",
       " ('1992', 306449, 0.1333347001325933),\n",
       " ('society', 306364, -0.09092504088323672),\n",
       " ('major', 304711, -0.6590625787845443),\n",
       " ('france', 304659, -0.01796104974367907),\n",
       " ('thumb', 303802, -0.09534616579566801),\n",
       " ('final', 301763, 0.009549266553726454),\n",
       " ('pdf', 301559, 0.06886844130371017),\n",
       " ('works', 301321, 0.017354703394151016),\n",
       " ('following', 296377, -0.18498624010576314),\n",
       " ('records', 295817, 0.16109641466260527),\n",
       " ('number', 294209, -0.02978426854751781),\n",
       " ('both', 293441, 0.06517138040288195),\n",
       " ('church', 293371, -0.48777041546998134),\n",
       " ('government', 293086, -0.29647170058228056),\n",
       " ('1993', 293047, 0.12864900372909105),\n",
       " ('r', 292994, -0.03986251059229495),\n",
       " ('king', 292328, -0.04787000444739853),\n",
       " ('division', 291454, -1.3119026703316656),\n",
       " ('charles', 290850, -0.45095314672825815),\n",
       " ('district', 290849, -0.20444281268999376),\n",
       " ('basketball', 289385, -0.46772173114280413),\n",
       " ('canadian', 288193, 0.2334727499496161),\n",
       " ('some', 287727, -0.06867148268656287),\n",
       " ('union', 287650, -0.5154945177366628),\n",
       " ('between', 287436, -0.1511390763915248),\n",
       " ('you', 287057, 0.5498053052977134),\n",
       " ('canada', 287038, 0.1742603125426836),\n",
       " ('arts', 286546, 0.4691375361808401),\n",
       " ('artist', 285565, 0.4896794202142143),\n",
       " ('professional', 285004, -0.2870917476387085),\n",
       " ('post', 284353, 0.0004574102017134152),\n",
       " ('military', 284053, -1.2780139704945945),\n",
       " ('back', 283503, -0.19019730544392033),\n",
       " ('see', 283309, 0.04064613755416957),\n",
       " ('education', 283040, 0.2927905311093095),\n",
       " ('great', 282739, -0.08533053659831324),\n",
       " ('o', 280909, 0.021449079372439783),\n",
       " ('named', 280822, -0.06060678364254457),\n",
       " ('received', 280447, 0.20763811546007105),\n",
       " ('n', 279926, 0.019365932934039876),\n",
       " ('public', 279090, 0.16648239722976932),\n",
       " ('1990', 278381, 0.08261694471758751),\n",
       " ('began', 277366, 0.1824533321855899),\n",
       " ('washington', 277345, -0.024927033858586967),\n",
       " ('volume', 277071, -0.2613277403592029),\n",
       " ('play', 276870, 0.05667079706754308),\n",
       " ('bgcolor', 276830, 0.6298009157999704),\n",
       " ('san', 274298, -0.09141412155242357),\n",
       " ('court', 273669, -0.033895341174574156),\n",
       " ('my', 273214, 0.5945273734665939),\n",
       " ('index', 272772, 0.15374302895800263),\n",
       " ('hockey', 272619, -0.9361453822153631),\n",
       " ('several', 272120, 0.05269284730426449),\n",
       " ('w', 272082, -0.05341745984365964),\n",
       " ('height', 271637, -0.24124632991177286),\n",
       " ('1991', 271089, 0.11953586679485184),\n",
       " ('parliament', 270837, -0.45700977502823825),\n",
       " ('released', 270675, 0.4431409214173687),\n",
       " ('hall', 270024, -0.05855995996581065),\n",
       " ('country', 269757, 0.2883181672588222),\n",
       " ('minister', 269096, -0.2999532932902227),\n",
       " ('deadurl', 268739, 0.3450322761149156),\n",
       " ('1988', 268318, 0.11096948607363544),\n",
       " ('dates', 266796, -0.08584810926988595),\n",
       " ('bio', 266314, 0.2053005190528232),\n",
       " ('service', 265669, -0.46983621986426805),\n",
       " ('1989', 263521, 0.0545659294699572),\n",
       " ('political', 262344, -0.2090598858662034),\n",
       " ('european', 261675, 0.4939602126411433),\n",
       " ('did', 261329, 0.023558875333419493),\n",
       " ('edu', 261061, 0.19627529957163148),\n",
       " ('open', 260622, 0.6267211395030827),\n",
       " ('since', 259761, 0.12178739665892735),\n",
       " ('fc', 259165, -1.5361733413205378),\n",
       " ('michael', 258798, -0.33454429902801053),\n",
       " ('pp', 258037, -0.269237609710844),\n",
       " ('town', 257942, -0.7930538414318704),\n",
       " ('worked', 257702, 0.1385265779102891),\n",
       " ('tour', 257414, 0.20659120881843052),\n",
       " ('paul', 256757, -0.39208761362678324),\n",
       " ('issue', 256048, -0.022200390444387708),\n",
       " ('citation', 255595, 0.10001542421923837),\n",
       " ('young', 254930, 0.38524917188210317),\n",
       " ('academy', 253421, -0.028643674178983503),\n",
       " ('dmy', 253266, -0.13690117872907948),\n",
       " ('henry', 253262, -0.4900884019930061),\n",
       " ('took', 253184, -0.07764602101517681),\n",
       " ('rugby', 250571, -3.138827889989198),\n",
       " ('through', 249163, 0.06874997137760097),\n",
       " ('au', 249068, 0.24068022341429618),\n",
       " ('net', 248895, 0.10503422977209453),\n",
       " ('band', 248784, -0.16245448352799663),\n",
       " ('than', 248475, 0.028329249762746755),\n",
       " ('such', 248394, 0.12928366360392474),\n",
       " ('1987', 247833, 0.06956067297323898),\n",
       " ('playing', 246986, -0.46064642516684984),\n",
       " ('now', 245833, 0.07781018292049957),\n",
       " ('song', 245551, 0.7606002256645858),\n",
       " ('cricket', 244784, -1.9378206408673417),\n",
       " ('official', 243622, 0.3107270076059532),\n",
       " ('1986', 242842, 0.05790264490282482),\n",
       " ('however', 242309, -0.22623546175138998),\n",
       " ('india', 241420, 0.08951773334020352),\n",
       " ('los', 239902, 0.2780114883238838),\n",
       " ('1984', 239754, 0.06451583632886759),\n",
       " ('kingdom', 237808, -0.2973330181963938),\n",
       " ('office', 237636, -0.09009339409888106),\n",
       " ('pg', 237613, -0.08581374632018779),\n",
       " ('germany', 237609, 0.01257141546161833),\n",
       " ('match', 236721, -0.5178479064231443),\n",
       " ('size', 236685, 0.20123179261756619),\n",
       " ('called', 236372, 0.008752019007614464),\n",
       " ('business', 235705, 0.0038587442249529147),\n",
       " ('profile', 235504, 0.13091057907170978),\n",
       " ('long', 235120, 0.10635915931505302),\n",
       " ('moved', 234949, 0.052805367691142635),\n",
       " ('1st', 234736, -0.03617874697603618),\n",
       " ('978', 234519, 0.13206968967320698),\n",
       " ('richard', 234274, -0.4337607636813434),\n",
       " ('articles', 232746, 0.29613185500361894),\n",
       " ('radio', 232679, 0.3428783959839041),\n",
       " ('america', 232390, 0.10174505768646647),\n",
       " ('person', 231683, 0.39718244952923243),\n",
       " ('1985', 231259, 0.04504941814704999),\n",
       " ('council', 230979, -0.06305829501780735),\n",
       " ('chicago', 230651, -0.07826448931243846),\n",
       " ('usa', 230118, 0.40857149538081927),\n",
       " ('five', 229135, -0.019002910742655033),\n",
       " ('olympic', 228633, 0.6436946984214416),\n",
       " ('third', 227671, -0.03039190235439726),\n",
       " ('joined', 227194, -0.339247364586873),\n",
       " ('old', 227159, 0.10833417329409833),\n",
       " ('sfn', 226565, -0.22195603484143334),\n",
       " ('research', 226491, -0.01052503142430794),\n",
       " ('al', 225885, -0.6405971003342881),\n",
       " ('appointed', 225562, -0.5901367186071074),\n",
       " ('wife', 225144, -0.057060278138187925),\n",
       " ('writers', 224360, 0.6803739529076491),\n",
       " ('science', 224229, 0.021916843662481256),\n",
       " ('them', 223732, -0.06589488636120144),\n",
       " ('went', 221996, -0.07217203119776272),\n",
       " ('footballers', 221914, -1.8419500294914162),\n",
       " ('retrieved', 221521, 0.3150605763039884),\n",
       " ('so', 221367, 0.16799976846950315),\n",
       " ('writer', 221071, 0.3963324087515936),\n",
       " ('actor', 220517, -0.014669626558310611),\n",
       " ('box', 220217, -0.13928557048538792),\n",
       " ('gov', 220165, 0.04402979352911274),\n",
       " ('occupation', 219270, 0.3640721370849871),\n",
       " ('elected', 219132, -0.3711493349192061),\n",
       " ('sir', 218152, -1.1223221667200907),\n",
       " ('1980', 218151, 0.04430640484581261),\n",
       " ('white', 218127, 0.09340751758710297),\n",
       " ('returned', 218096, -0.24456920858431097),\n",
       " ('1983', 218030, 0.034543577577300866),\n",
       " ('italian', 217642, -0.1658162738701634),\n",
       " ('100', 217402, 0.5657252042879701),\n",
       " ('gold', 216744, 0.5593703901712139),\n",
       " ('love', 216696, 0.8635114446616186),\n",
       " ('ireland', 215976, -0.5176976318440492),\n",
       " ('wrote', 215767, 0.14597517624159018),\n",
       " ('chief', 215469, -0.6163725650362508),\n",
       " ('said', 213672, 0.14597139863851183),\n",
       " ('round', 213595, -0.19659857872597541),\n",
       " ('field', 211980, 0.1365206274128088),\n",
       " ('peter', 211560, -0.3670376132966844),\n",
       " ('texas', 211458, -0.19993475263764715),\n",
       " ('1982', 210991, 0.022252741489158012),\n",
       " ('same', 210246, 0.09359870885648292),\n",
       " ('h', 210171, -0.3073643376766775),\n",
       " ('ca', 209102, 0.20420127387214393),\n",
       " ('what', 208736, 0.20995062472779225),\n",
       " ('short', 208506, 0.4474804192950028),\n",
       " ('aspx', 208386, 0.16590683720492372),\n",
       " ('episode', 207723, 0.9017698851018849),\n",
       " ('off', 207629, -0.07544858206552263),\n",
       " ('institute', 207279, 0.006912267529829208),\n",
       " ('angeles', 206444, 0.3063499732920505),\n",
       " ('conference', 206427, -0.6108558221706968),\n",
       " ('again', 206408, -0.07015856732229686),\n",
       " ('1981', 206194, 0.022912131853564333),\n",
       " ('held', 205264, -0.10824954693593547),\n",
       " ('smith', 204418, 0.00959610859676907),\n",
       " ('museum', 203946, 0.2154097271818447),\n",
       " ('will', 203030, 0.1520412848979653),\n",
       " ('politician', 202958, -0.34886631031141135),\n",
       " ('indian', 202901, 0.17922348942885868),\n",
       " ('paris', 202576, 0.1417129677975435),\n",
       " ('east', 202459, -0.23371026811546258),\n",
       " ('theatre', 202439, 0.7204883977437664),\n",
       " ('own', 202364, 0.18676359409820265),\n",
       " ('1979', 202230, 0.0018845373429137169),\n",
       " ('zealand', 202052, 0.038911536252964396),\n",
       " ('black', 202043, 0.23729992231970165),\n",
       " ('000', 201340, 0.18576733485037167),\n",
       " ('review', 201337, 0.41891647666594345),\n",
       " ('20th', 201121, 0.4566927784587822),\n",
       " ('appeared', 200252, 0.6642721099923428),\n",
       " ('debut', 199866, 0.1488377552070279),\n",
       " ('media', 198880, 0.40816099208463363),\n",
       " ('results', 198405, 0.24751916260738227),\n",
       " ('personal', 198281, 0.3488940140094634),\n",
       " ('daughter', 198252, 0.6337627183534504),\n",
       " ('nfl', 198100, -3.362192971339228),\n",
       " ('head', 197558, -0.4064288029436671),\n",
       " ('g', 197532, -0.2761874148981338),\n",
       " ('signed', 197463, -0.7215396087648287),\n",
       " ('editor', 196986, 0.031105504849483268),\n",
       " ('me', 196630, 0.6272882283946402),\n",
       " ('athletics', 196346, 0.8367856635185671),\n",
       " ('1978', 195313, -0.01883445740301859),\n",
       " ('interview', 194912, 0.4847492616959208),\n",
       " ('artists', 194143, 0.5094403652581523),\n",
       " ('1976', 194120, -0.007193452921084642),\n",
       " ('last1', 193469, 0.28640849945012015),\n",
       " ('width', 193067, 0.37153188630809275),\n",
       " ('x', 192860, 0.15036068367833444),\n",
       " ('oxford', 190983, -0.38716527554736224),\n",
       " ('first1', 190486, 0.2812931023185854),\n",
       " ('lost', 190136, 0.04299548676801912),\n",
       " ('1977', 189081, -0.036024766921837426),\n",
       " ('committee', 189076, 0.023913083016998016),\n",
       " ('board', 188508, 0.030307033051622412),\n",
       " ('mother', 188438, 0.9085562960025371),\n",
       " ('led', 188065, -0.4022111709133185),\n",
       " ('democratic', 187936, -0.1072612049626187),\n",
       " ('can', 187816, 0.20317035116699422),\n",
       " ('live', 187159, 0.40411920072022234),\n",
       " ('singer', 186430, 0.8949843346407764),\n",
       " ('content', 186389, -0.0027930215192562002),\n",
       " ('musical', 185260, 0.5909410155353854),\n",
       " ('1974', 185039, -0.11514497075266483),\n",
       " ('asp', 184879, 0.21144470632133583),\n",
       " ('brother', 184776, -0.03859292895236166),\n",
       " ('air', 184518, -0.5355910961072805),\n",
       " ('1975', 183200, -0.05972159571755675),\n",
       " ('goals', 182169, -1.3317695179626785),\n",
       " ('1972', 182152, -0.08377253759001135),\n",
       " ('do', 181713, 0.2858097356810205),\n",
       " ('prix', 181540, -0.5058063723416115),\n",
       " ('irish', 180261, -0.14371965320792945),\n",
       " ('another', 179504, 0.01077085869411576),\n",
       " ('we', 179445, 0.2534434534359349),\n",
       " ('access', 179190, 0.4541496246627652),\n",
       " ('k', 178975, -0.08751800366426643),\n",
       " ('professor', 178467, -0.21959005422999134),\n",
       " ('independent', 178446, 0.2149003111761587),\n",
       " ('free', 178403, -0.1709534729215747),\n",
       " ('ru', 177918, -0.8021562171015884),\n",
       " ('himself', 177761, -1.8331285840425533),\n",
       " ('park', 177585, -0.16657402519737197),\n",
       " ('library', 177090, 0.1220379047571889),\n",
       " ('six', 176903, -0.07322033299102593),\n",
       " ('russian', 176320, 0.012265722718009187),\n",
       " ('present', 176265, 0.3700282188240429),\n",
       " ('these', 176058, -0.07255352542764726),\n",
       " ('ice', 175213, -0.580608532197914),\n",
       " ('governor', 175094, -0.5254047703517912),\n",
       " ('like', 174095, 0.30328760754771444),\n",
       " ('video', 174061, 0.5760218204420813),\n",
       " ('1968', 173984, -0.12761934299807365),\n",
       " ('1970', 173920, -0.11652497121131944),\n",
       " ('cross', 173684, -0.17943963232241344),\n",
       " ('japan', 173608, 0.12844980302883613),\n",
       " ('1973', 173430, -0.11018144370140348),\n",
       " ('started', 173272, -0.0349198839492697),\n",
       " ('politics', 172595, 0.21373379765663714),\n",
       " ('mary', 172294, 0.9087025197773144),\n",
       " ('came', 172189, -0.10291638465344377),\n",
       " ('louis', 171620, -0.28857116449849407),\n",
       " ('full', 171463, -0.022444993819943804),\n",
       " ('local', 171448, 0.0487737724003825),\n",
       " ('needed', 171445, 0.18187108582749723),\n",
       " ('catholic', 171382, -0.5228039986336661),\n",
       " ('italy', 170651, -0.11976330879210906),\n",
       " ('dead', 170537, 0.24843809235972358),\n",
       " ('next', 170476, 0.10553943696074874),\n",
       " ('reference', 170428, -0.18188391117588942),\n",
       " ('department', 169377, -0.06373323858531421),\n",
       " ('if', 169013, 0.0464344687253071),\n",
       " ('big', 168931, 0.13670607740081664),\n",
       " ('among', 168656, 0.015811780067508607),\n",
       " ('set', 168420, 0.12311505918176735),\n",
       " ('spouse', 168123, 0.3956346773538826),\n",
       " ('go', 167925, 0.06646157979412948),\n",
       " ('daily', 167696, 0.3429120778802517),\n",
       " ('1971', 167271, -0.11971184067198237),\n",
       " ('active', 167070, 0.285903554880079),\n",
       " ('joseph', 167028, -0.6346047893652358),\n",
       " ('boston', 166959, -0.07223937426783067),\n",
       " ('edward', 166185, -0.576216136128286),\n",
       " ('virginia', 165935, -0.0853173890822223),\n",
       " ('republican', 165784, -0.36667006132806),\n",
       " ('200', 165662, -0.008003442025264818),\n",
       " ('social', 165578, 0.312179590364817),\n",
       " ('1969', 165551, -0.13547591027373684),\n",
       " ('senior', 165526, -0.3732378828017655),\n",
       " ('late', 165261, 0.01656583005546608),\n",
       " ('edition', 165078, -0.03892482370920547),\n",
       " ('notes', 164766, 0.267218632573611),\n",
       " ('could', 164319, -0.06491914872452753),\n",
       " ('just', 163693, 0.08930174326202511),\n",
       " ('festival', 163600, 0.6168246983677221),\n",
       " ('red', 162632, -0.19726843522903437),\n",
       " ('race', 162041, -0.051550169024071835),\n",
       " ('based', 161740, 0.13030434955556736),\n",
       " ('wikitable', 161535, 0.5849010045732062),\n",
       " ('nationality', 161500, 0.1541570841594222),\n",
       " ('rock', 160763, 0.07644852973221461),\n",
       " ('view', 160212, 0.11760272265038552),\n",
       " ('western', 160210, -0.30533849628888454),\n",
       " ('van', 160045, -0.10525588843839273),\n",
       " ('imdb', 159625, 0.726253915278436),\n",
       " ('draft', 159115, -1.51280551767573),\n",
       " ('wales', 159026, -0.25950954836131856),\n",
       " ('single', 158980, 0.6130811603256312),\n",
       " ('battle', 158963, -0.7837072267684686),\n",
       " ('down', 158830, -0.12013791462870138),\n",
       " ('mark', 158373, -0.3928407335836148),\n",
       " ('because', 158277, 0.14781051615437768),\n",
       " ('studies', 157710, 0.08832667178459097),\n",
       " ('working', 157382, 0.23813340266356242),\n",
       " ('fame', 156928, -0.004767856593822728),\n",
       " ('wrestling', 156178, -0.08039111713734037),\n",
       " ('bill', 156177, -0.17059625163553527),\n",
       " ('1967', 155874, -0.16093221467970764),\n",
       " ('civil', 155787, -0.4470439249699769),\n",
       " ('2nd', 155676, -0.015584138005857895),\n",
       " ('china', 155534, 0.23482179295775474),\n",
       " ('attended', 155232, 0.12300689102273132),\n",
       " ('brown', 154979, 0.1273011566355109),\n",
       " ('senate', 154774, -0.08078919602425394),\n",
       " ('link', 154701, 0.06475502379832676),\n",
       " ('total', 153903, -0.6046042074373084),\n",
       " ('1964', 153750, -0.1192862637809533),\n",
       " ('run', 153307, -0.15744517255254387),\n",
       " ('tournament', 153220, 0.10929052039348086),\n",
       " ('still', 152758, 0.011702177565293681),\n",
       " ('nhl', 152440, -3.980216647530143),\n",
       " ('main', 152185, 0.16849852379685615),\n",
       " ('stage', 151466, 0.5960201286379974),\n",
       " ('martin', 151246, -0.17036934105691692),\n",
       " ('florida', 150765, -0.10092026131562015),\n",
       " ('nytimes', 150252, 0.3064574088709655),\n",
       " ('african', 150072, 0.24268432322639377),\n",
       " ('secretary', 149978, -0.17948514417631856),\n",
       " ('producer', 149961, 0.1694809736604146),\n",
       " ('special', 149922, 0.2830410045314622),\n",
       " ('event', 149788, 0.4959458402643886),\n",
       " ('way', 149719, 0.09851274434417867),\n",
       " ('1966', 149651, -0.16723758320860505),\n",
       " ('manager', 149473, -0.9481874929826049),\n",
       " ('leader', 148854, -0.3190056329689348),\n",
       " ('spanish', 148646, -0.05641322666425097),\n",
       " ('le', 148552, -0.06882350478073285),\n",
       " ('how', 148495, 0.3410806630796763),\n",
       " ('prince', 148063, 0.199956475508559),\n",
       " ('night', 147892, 0.3529950394488637),\n",
       " ('actress', 147860, 1.7006927238502563),\n",
       " ('result', 147427, 0.10373483279272655),\n",
       " ('campaign', 147417, -0.037751921771540964),\n",
       " ('having', 147103, -0.08717090443795783),\n",
       " ('dr', 147002, 0.07183284795679512),\n",
       " ('winning', 146992, 0.033636360280999256),\n",
       " ('squad', 146948, -0.559985780761096),\n",
       " ('saint', 146885, -0.040200828171977676),\n",
       " ('ed', 146783, -0.08143086817317169),\n",
       " ('prize', 146764, 0.34965688014446705),\n",
       " ('succession', 146642, -0.5664582742750888),\n",
       " ('retired', 146614, -0.15903293947502917),\n",
       " ('1965', 146181, -0.13880810134667598),\n",
       " ('duke', 146155, 0.20950511632914548),\n",
       " ('africa', 146077, -0.11621081430802249),\n",
       " ('pro', 145855, -0.5622495716981302),\n",
       " ('actors', 145620, -0.545037837799061),\n",
       " ('force', 145496, -0.7470151351778949),\n",
       " ('good', 145281, 0.21694508592565143),\n",
       " ('scottish', 145167, -0.4157041310266383),\n",
       " ('movie', 145009, 0.7885632165658123),\n",
       " ('officer', 144921, -0.668381563683452),\n",
       " ('50', 144868, 0.11001048686017256),\n",
       " ('central', 144813, -0.17777444421525423),\n",
       " ('films', 144604, 0.5957823476143407),\n",
       " ('street', 144521, 0.11942003124816836),\n",
       " ('1960', 144464, -0.09471253383728317),\n",
       " ('congress', 143790, -0.3915518049217468),\n",
       " ('degree', 143589, 0.1922681704466349),\n",
       " ('report', 143545, -0.12235004930290216),\n",
       " ('champions', 143441, -0.029648004558985974),\n",
       " ('side', 143328, -0.41944813991085184),\n",
       " ('found', 143284, 0.026980375688815172),\n",
       " ('re', 143141, -0.004568027501456129),\n",
       " ('christian', 143034, -0.1092060997341342),\n",
       " ('days', 142967, 0.0306076456317097),\n",
       " ('cambridge', 142368, -0.4325192712926089),\n",
       " ('racing', 142294, -1.1052169525571873),\n",
       " ('online', 142221, 0.2315093763140954),\n",
       " ('republic', 142077, -0.3118771624154064),\n",
       " ('scored', 142006, -1.289522163721882),\n",
       " ('used', 141693, -0.11640198028270632),\n",
       " ('roman', 141528, -0.4090205635544848),\n",
       " ('soccer', 141379, -0.281706308919798),\n",
       " ('never', 141093, 0.14923772781080302),\n",
       " ('vol', 141017, -0.2920871007818935),\n",
       " ('although', 140992, -0.12128549517971621),\n",
       " ('included', 140972, 0.1177437197805915),\n",
       " ('staff', 140910, -0.32805479765127643),\n",
       " ('el', 140654, -0.0023988788794930826),\n",
       " ('little', 140627, 0.41317137683045146),\n",
       " ('500', 140234, -0.7244283111589507),\n",
       " ('1945', 140165, -0.39032460270468405),\n",
       " ('pennsylvania', 140025, -0.32271570989433584),\n",
       " ('gallery', 139869, 0.35248257018000473),\n",
       " ('q', 139830, 0.12148109529663564),\n",
       " ('sources', 139568, 0.11080070953808274),\n",
       " ('00', 139321, -0.09972608622883428),\n",
       " ('1963', 138715, -0.13405566293336335),\n",
       " ('junior', 138623, 0.41133603483295467),\n",
       " ('very', 138470, 0.11836529847502142),\n",
       " ('search', 138425, 0.22728675218730743),\n",
       " ('michigan', 138385, -0.30396972573516123),\n",
       " ('lord', 138357, -0.6812606033518929),\n",
       " ('japanese', 138098, 0.4104254636859661),\n",
       " ('bishop', 137962, -1.285714517282731),\n",
       " ('development', 137894, -0.08896678369263),\n",
       " ('contract', 137892, -0.6986333318740119),\n",
       " ('1962', 137796, -0.14596313727006738),\n",
       " ('continued', 137218, -0.002959664554401442),\n",
       " ('return', 137033, -0.24053714421490824),\n",
       " ('captain', 136725, -1.0695800293913056),\n",
       " ('entertainment', 136638, 0.8169159704061535),\n",
       " ('due', 136402, -0.09807713147773178),\n",
       " ('jones', 136155, 0.17071185304047276),\n",
       " ('lee', 136048, 0.25747219411824496),\n",
       " ('make', 135711, 0.10278011265730314),\n",
       " ('carolina', 135490, -0.22253669260521391),\n",
       " ('become', 135276, 0.01001012968789361),\n",
       " ('collection', 135267, 0.25178579786211763),\n",
       " ('performance', 135095, 0.6498789671495437),\n",
       " ('release', 135002, 0.34905359043208506),\n",
       " ('jersey', 134736, -0.1851550122068435),\n",
       " ('stories', 134602, 0.47123347139393346),\n",
       " ('project', 134444, 0.24009364235905295),\n",
       " ('assembly', 134199, -0.261857708142303),\n",
       " ('around', 134088, 0.2497198419251454),\n",
       " ('europe', 134082, -0.012248435173674466),\n",
       " ('faculty', 133947, 0.005552946319612673),\n",
       " ('any', 133942, -0.1229608492996519),\n",
       " ('along', 133305, 0.005809528318412305),\n",
       " ('ohio', 133243, -0.38145506542812413),\n",
       " ('written', 133140, 0.2856697148289822),\n",
       " ('overall', 132957, -0.6951551703149175),\n",
       " ('politicians', 132939, 0.08431768494453173),\n",
       " ('queen', 132469, 0.7965073146464423),\n",
       " ('green', 132315, -0.016712583902142697),\n",
       " ('power', 132120, -0.13045698463052524),\n",
       " ('program', 131458, 0.4156444567052464),\n",
       " ('track', 131108, 0.6110331572165784),\n",
       " ('lang', 131079, 0.050055907013193846),\n",
       " ('goal', 130523, -1.235927211591406),\n",
       " ('descent', 130195, 0.4046214516249176),\n",
       " ('1961', 130155, -0.15382108370307712),\n",
       " ('songs', 130155, 0.5831266387460428),\n",
       " ('island', 130142, -0.0715474959044684),\n",
       " ('health', 129831, 0.41581607968940126),\n",
       " ('singles', 129824, 0.9339846143040109),\n",
       " ('awarded', 129804, 0.017375480162364454),\n",
       " ('non', 129655, -0.05839763621520078),\n",
       " ('williams', 129405, 0.10535466800476634),\n",
       " ('teams', 129250, -1.0059014247619036),\n",
       " ('writing', 129246, 0.5124711985450787),\n",
       " ('federal', 128945, -0.18435911130948845),\n",
       " ('1959', 128798, -0.1399668522441999),\n",
       " ('foundation', 128656, 0.3264036274367097),\n",
       " ('assistant', 128454, -0.38360916492291075),\n",
       " ('premier', 127593, -0.8567712163977337),\n",
       " ('religion', 127508, -0.15203443378840475),\n",
       " ('modern', 127478, -0.007851703793688714),\n",
       " ('scotland', 127383, -0.3808234123588736),\n",
       " ('selected', 127123, 0.013122536093407078),\n",
       " ('opera', 126959, 0.7772599743242914),\n",
       " ('1956', 126949, -0.1259716276941969),\n",
       " ('don', 126882, 0.14101436259054267),\n",
       " ('jewish', 126875, 0.09866083354761201),\n",
       " ('much', 126668, 0.007631256194395419),\n",
       " ('johnson', 126624, -0.13298106439228086),\n",
       " ('representatives', 126619, -0.36292665975848415),\n",
       " ('champion', 126504, -0.01619378053373488),\n",
       " ('making', 126371, -0.00443880845283573),\n",
       " ('source', 126143, -0.0788500993525858),\n",
       " ('line', 125890, 0.028004852368331612),\n",
       " ('announced', 125643, 0.2503766016572193),\n",
       " ('silver', 125415, 0.6556416499950561),\n",
       " ('1958', 125101, -0.12446453816504821),\n",
       " ('voice', 125026, 0.7485925173451484),\n",
       " ('toronto', 124878, 0.037431149201800906),\n",
       " ('color', 124676, 0.3527828231270007),\n",
       " ('label', 124373, 0.38986374086958087),\n",
       " ('period', 124152, -0.11661432973614616),\n",
       " ('empire', 123972, -0.1974940195879391),\n",
       " ('female', 123970, 1.7434816438590204),\n",
       " ('wins', 123778, -0.04267221364236029),\n",
       " ('40', 123736, -0.1023717590103228),\n",
       " ('chairman', 123733, -1.166348333199796),\n",
       " ('jr', 123730, -0.5630447702038186),\n",
       " ('fellow', 123580, -0.07496906588679053),\n",
       " ('1950', 123529, -0.1500349352139061),\n",
       " ('finished', 123420, -0.08250221545876357),\n",
       " ('commons', 123133, -0.051024763940649365),\n",
       " ('marriage', 122953, 0.8625637300186639),\n",
       " ('dq', 122817, -0.038667669433348095),\n",
       " ('points', 122390, -0.4869656539997749),\n",
       " ('alexander', 122358, -0.3831521435898537),\n",
       " ('seven', 122315, 0.0072950442140964356),\n",
       " ('navy', 121857, -1.3078111665626349),\n",
       " ('super', 121804, -0.5059622484578732),\n",
       " ('movement', 121763, 0.17424213434527225),\n",
       " ('appearances', 121675, -0.17796151554178508),\n",
       " ('publishing', 121649, -0.032474349789612944),\n",
       " ('illinois', 121574, -0.08882769295701998),\n",
       " ('scope', 121341, 0.6443699291718215),\n",
       " ('studied', 121072, 0.09944185709263209),\n",
       " ('chinese', 120933, 0.27332072720678724),\n",
       " ('police', 120856, -0.14798460945267955),\n",
       " ('alt', 120782, 0.1122869892338425),\n",
       " ('1957', 120765, -0.1495420594291481),\n",
       " ('sydney', 120567, 0.2100609321764253),\n",
       " ('1952', 120400, -0.12971317586819886),\n",
       " ('musicians', 120307, 0.2043208028086969),\n",
       " ('spent', 120229, -0.18743053815103572),\n",
       " ('1939', 120106, -0.33561261735249914),\n",
       " ('residence', 119869, 0.18546824110849158),\n",
       " ('columbia', 119838, 0.15933748448971308),\n",
       " ('take', 119725, 0.11213588178046585),\n",
       " ('child', 119645, 0.8300530807125117),\n",
       " ('earl', 119608, -0.5951479585526407),\n",
       " ('winners', 119595, 0.4668633665242101),\n",
       " ('without', 119551, 0.0036288876672596615),\n",
       " ('massachusetts', 119222, -0.08051836039681248),\n",
       " ('site', 119165, 0.23340368915293297),\n",
       " ('mr', 119109, -0.4535867152158133),\n",
       " ('lead', 119036, 0.40517670554099716),\n",
       " ('1955', 118862, -0.11464590361018168),\n",
       " ('community', 118769, 0.26472199011900166),\n",
       " ('our', 118690, 0.27158582165150413),\n",
       " ('novel', 118588, 0.6071746397883206),\n",
       " ('action', 118552, -0.1377597210687842),\n",
       " ('executive', 118322, 0.009726540895270475),\n",
       " ('1948', 118278, -0.20274512368329134),\n",
       " ('various', 118195, 0.10672389966834395),\n",
       " ('winner', 118179, 0.6496226955718996),\n",
       " ('training', 118132, -0.05462805902129553),\n",
       " ('further', 117982, -0.1616092708481407),\n",
       " ('half', 117971, -0.052741219491634794),\n",
       " ('der', 117928, -0.24171791371131945),\n",
       " ('master', 117485, -0.05292164853243442),\n",
       " ('winter', 117445, 0.5289164394040604),\n",
       " ('produced', 117443, 0.20622997646037433),\n",
       " ('espn', 117319, -1.0211576043836281),\n",
       " ('case', 117257, 0.12163863403196373),\n",
       " ('woman', 117209, 1.4085554659874795),\n",
       " ('road', 117077, 0.08371652236624172),\n",
       " ('frank', 117068, -0.4622396876352308),\n",
       " ('mexico', 117065, 0.06229061222043342),\n",
       " ('others', 117053, 0.040177610579656076),\n",
       " ('alma', 117004, 0.07942496529741128),\n",
       " ('1954', 116894, -0.10998487078665242),\n",
       " ('justice', 116785, -0.026843279649533258),\n",
       " ('culture', 116578, 0.3610323738687917),\n",
       " ('hill', 116379, 0.003274388529892036),\n",
       " ('northern', 116276, -0.384162721188007),\n",
       " ('historical', 116267, -0.22130367381116578),\n",
       " ('judge', 116020, 0.013908598646839465),\n",
       " ('1953', 115911, -0.15281367242586796),\n",
       " ('iii', 115862, -0.11606754989934309),\n",
       " ('des', 115577, -0.22912144240640409),\n",
       " ('solo', 115472, 0.5280861072469758),\n",
       " ('loan', 115332, -2.5307169894768897),\n",
       " ('icon', 115316, -0.07842601282255224),\n",
       " ('scott', 115200, -0.06313015773408637),\n",
       " ('support', 115011, 0.07371008698192227),\n",
       " ('philadelphia', 114995, -0.42300037940153246),\n",
       " ('von', 114899, -0.05529727003490592),\n",
       " ('spain', 114743, 0.06202866879058533),\n",
       " ('matches', 114686, -1.0248069259069919),\n",
       " ('1946', 114573, -0.25274796481635065),\n",
       " ('today', 114453, 0.2516006214545481),\n",
       " ('youth', 114353, -0.03134245269625424),\n",
       " ('parents', 114263, 0.5040512105142856),\n",
       " ('study', 113969, 0.003779086264442455),\n",
       " ('leading', 113936, 0.05233095814596567),\n",
       " ('original', 113872, 0.15313874972601837),\n",
       " ('constituency', 113757, -0.6182898122440932),\n",
       " ('blue', 113611, 0.11468695779297633),\n",
       " ('archives', 113587, 0.09025664158549951),\n",
       " ('russia', 113538, 0.18256907388408017),\n",
       " ('rights', 113439, 0.5004715040728875),\n",
       " ('million', 113315, -0.014509474414797552),\n",
       " ('together', 113231, 0.2680607788885485),\n",
       " ('near', 113187, -0.3428896816631717),\n",
       " ('asian', 113169, 0.6096629150290731),\n",
       " ('human', 113011, 0.2565196658172546),\n",
       " ('francisco', 112942, 0.03503243243795673),\n",
       " ('mlb', 112927, -3.765953985535786),\n",
       " ('candidate', 112828, 0.030635836779831394),\n",
       " ('centre', 112827, -0.19371514999540906),\n",
       " ('point', 112824, -0.2878662766976259),\n",
       " ('production', 112714, 0.43088897795521675),\n",
       " ('1949', 112697, -0.17474613434193742),\n",
       " ('given', 112691, -0.03386204155625805),\n",
       " ('hit', 112690, 0.16455241040713275),\n",
       " ('victory', 112611, -0.7232598198482361),\n",
       " ('liberal', 112585, -0.34177455975238225),\n",
       " ('1951', 112564, -0.16828858630019106),\n",
       " ('upon', 112503, -0.12055568153171592),\n",
       " ('graduated', 112458, 0.10655439741518435),\n",
       " ('foreign', 112391, -0.28918345279463686),\n",
       " ('bot', 112318, 0.10702019287367115),\n",
       " ('jazz', 112228, -0.03573124759543589),\n",
       " ('information', 112045, 0.11691569818499836),\n",
       " ('type', 112032, -0.15058118416187938),\n",
       " ...]"
      ]
     },
     "execution_count": 170,
     "metadata": {},
     "output_type": "execute_result"
    }
   ],
   "source": [
    "top_words_with_pmi"
   ]
  },
  {
   "cell_type": "code",
   "execution_count": 172,
   "metadata": {
    "collapsed": true
   },
   "outputs": [],
   "source": [
    "pmi_per_year = [(i, pc.pmi(str(i))) for i in range(1900, 2015)]"
   ]
  },
  {
   "cell_type": "code",
   "execution_count": 178,
   "metadata": {},
   "outputs": [
    {
     "data": {
      "image/png": "[encoded data removed]",
      "text/plain": [
       "<matplotlib.figure.Figure at 0x7fbcd75929b0>"
      ]
     },
     "metadata": {},
     "output_type": "display_data"
    }
   ],
   "source": [
    "plt.plot(range(1900,2015), [pc.pmi(str(i)) for i in range(1900, 2015)], 'ro')\n",
    "#plt.axis([0, 6, 0, 20])\n",
    "plt.xlabel('Year Token')\n",
    "plt.ylabel('PMI with Women Articles')\n",
    "#plt.title('Histogram of IQ')\n",
    "plt.show()"
   ]
  },
  {
   "cell_type": "code",
   "execution_count": 182,
   "metadata": {
    "collapsed": true
   },
   "outputs": [],
   "source": [
    "top_words_with_pmi.sort(key = lambda x: x[-1])"
   ]
  },
  {
   "cell_type": "code",
   "execution_count": 189,
   "metadata": {
    "scrolled": false
   },
   "outputs": [
    {
     "data": {
      "text/plain": [
       "[('nbay', 26272, -7.611021034611001),\n",
       " ('soccerbase', 48215, -6.714110080527057),\n",
       " ('touchdowns', 21743, -5.717061075755479),\n",
       " ('cfb', 41858, -5.591893589120769),\n",
       " ('cfl', 27482, -4.883459824010785),\n",
       " ('ahl', 48558, -4.728768699616124),\n",
       " ('basho', 27121, -4.485825215739609),\n",
       " ('phillies', 18151, -4.408029612896608),\n",
       " ('ffffbf', 22239, -4.308870589754527),\n",
       " ('touchdown', 20951, -4.146025227102477),\n",
       " ('nhl', 152440, -3.980216647530143),\n",
       " ('packers', 17685, -3.8653300367238232),\n",
       " ('mlb', 112927, -3.765953985535786),\n",
       " ('nrl', 17001, -3.7100535643968486),\n",
       " ('ffdf9f', 30040, -3.667509684331198),\n",
       " ('dfdfdf', 30974, -3.6090002204332388),\n",
       " ('redskins', 17049, -3.541022692597691),\n",
       " ('sumo', 17618, -3.47376878974522),\n",
       " ('nfl', 198100, -3.362192971339228),\n",
       " ('braves', 21585, -3.3201713681263234),\n",
       " ('ligue', 20050, -3.3153947643584134),\n",
       " ('atp', 23513, -3.2587440084557056),\n",
       " ('calcio', 36112, -3.251651673848447),\n",
       " ('cardinals', 41157, -3.2000989189914497),\n",
       " ('hurling', 42983, -3.1796980729197557)]"
      ]
     },
     "execution_count": 189,
     "metadata": {},
     "output_type": "execute_result"
    }
   ],
   "source": [
    "top_words_with_pmi[:25]"
   ]
  },
  {
   "cell_type": "code",
   "execution_count": 188,
   "metadata": {},
   "outputs": [
    {
     "data": {
      "text/plain": [
       "[('girl', 81774, 1.3043311692138673),\n",
       " ('karen', 18868, 1.3107377579413537),\n",
       " ('rachel', 19619, 1.320925870895616),\n",
       " ('jennifer', 24554, 1.3246692332215506),\n",
       " ('amy', 21268, 1.3468364575604284),\n",
       " ('laura', 28393, 1.3497051699823768),\n",
       " ('kate', 25335, 1.361659806311657),\n",
       " ('julie', 19482, 1.3677288569117696),\n",
       " ('lisa', 24538, 1.3794512862249828),\n",
       " ('gender', 20206, 1.3821934743321176),\n",
       " ('woman', 117209, 1.4085554659874795),\n",
       " ('gymnastics', 27011, 1.4361599930835922),\n",
       " ('girls', 57627, 1.443666437110494),\n",
       " ('jessica', 17538, 1.4518054969917902),\n",
       " ('michelle', 17688, 1.4548538222469443),\n",
       " ('miss', 83631, 1.4843674303589847),\n",
       " ('husband', 75006, 1.509566866723068),\n",
       " ('ladies', 25061, 1.5567496105259568),\n",
       " ('actress', 147860, 1.7006927238502563),\n",
       " ('her', 1308263, 1.7244667675788659),\n",
       " ('women', 532471, 1.742348800649344),\n",
       " ('female', 123970, 1.7434816438590204),\n",
       " ('herself', 41532, 1.75370262315033),\n",
       " ('she', 1412916, 1.7940272570088585),\n",
       " ('actresses', 93472, 1.8524058451615915)]"
      ]
     },
     "execution_count": 188,
     "metadata": {},
     "output_type": "execute_result"
    }
   ],
   "source": [
    "top_words_with_pmi[-25:]"
   ]
  },
  {
   "cell_type": "code",
   "execution_count": 190,
   "metadata": {},
   "outputs": [
    {
     "data": {
      "text/plain": [
       "-0.057060278138187925"
      ]
     },
     "execution_count": 190,
     "metadata": {},
     "output_type": "execute_result"
    }
   ],
   "source": [
    "pc.pmi(\"wife\")"
   ]
  },
  {
   "cell_type": "code",
   "execution_count": 191,
   "metadata": {},
   "outputs": [
    {
     "data": {
      "text/plain": [
       "1.509566866723068"
      ]
     },
     "execution_count": 191,
     "metadata": {},
     "output_type": "execute_result"
    }
   ],
   "source": [
    "pc.pmi(\"husband\")"
   ]
  },
  {
   "cell_type": "code",
   "execution_count": 193,
   "metadata": {},
   "outputs": [
    {
     "data": {
      "text/plain": [
       "-1.3782836948463633"
      ]
     },
     "execution_count": 193,
     "metadata": {},
     "output_type": "execute_result"
    }
   ],
   "source": [
    "pc.pmi(\"calculus\")"
   ]
  },
  {
   "cell_type": "code",
   "execution_count": 215,
   "metadata": {},
   "outputs": [
    {
     "data": {
      "text/plain": [
       "-0.43455580425201745"
      ]
     },
     "execution_count": 215,
     "metadata": {},
     "output_type": "execute_result"
    }
   ],
   "source": [
    "pc.pmi(\"algebra\")"
   ]
  },
  {
   "cell_type": "code",
   "execution_count": 216,
   "metadata": {},
   "outputs": [
    {
     "data": {
      "text/plain": [
       "-0.7521868352706473"
      ]
     },
     "execution_count": 216,
     "metadata": {},
     "output_type": "execute_result"
    }
   ],
   "source": [
    "pc.pmi(\"geometry\")"
   ]
  },
  {
   "cell_type": "code",
   "execution_count": 217,
   "metadata": {},
   "outputs": [
    {
     "data": {
      "text/plain": [
       "-0.9148179789333222"
      ]
     },
     "execution_count": 217,
     "metadata": {},
     "output_type": "execute_result"
    }
   ],
   "source": [
    "pc.pmi(\"manifold\")"
   ]
  },
  {
   "cell_type": "code",
   "execution_count": 218,
   "metadata": {},
   "outputs": [
    {
     "data": {
      "text/plain": [
       "-0.8668498910403404"
      ]
     },
     "execution_count": 218,
     "metadata": {},
     "output_type": "execute_result"
    }
   ],
   "source": [
    "pc.pmi(\"vector\")"
   ]
  },
  {
   "cell_type": "code",
   "execution_count": 208,
   "metadata": {},
   "outputs": [
    {
     "data": {
      "text/plain": [
       "-0.438609525439805"
      ]
     },
     "execution_count": 208,
     "metadata": {},
     "output_type": "execute_result"
    }
   ],
   "source": [
    "pc.pmi(\"killed\")"
   ]
  },
  {
   "cell_type": "code",
   "execution_count": 205,
   "metadata": {},
   "outputs": [
    {
     "data": {
      "text/plain": [
       "-0.24261275656700754"
      ]
     },
     "execution_count": 205,
     "metadata": {},
     "output_type": "execute_result"
    }
   ],
   "source": [
    "pc.pmi(\"python\")"
   ]
  },
  {
   "cell_type": "code",
   "execution_count": 206,
   "metadata": {},
   "outputs": [
    {
     "data": {
      "text/plain": [
       "-0.3288831679724957"
      ]
     },
     "execution_count": 206,
     "metadata": {},
     "output_type": "execute_result"
    }
   ],
   "source": [
    "pc.pmi(\"java\")"
   ]
  },
  {
   "cell_type": "code",
   "execution_count": 210,
   "metadata": {},
   "outputs": [
    {
     "data": {
      "text/plain": [
       "-1.0698052654783705"
      ]
     },
     "execution_count": 210,
     "metadata": {},
     "output_type": "execute_result"
    }
   ],
   "source": [
    "pc.pmi(\"c\")"
   ]
  },
  {
   "cell_type": "code",
   "execution_count": 211,
   "metadata": {},
   "outputs": [
    {
     "data": {
      "text/plain": [
       "-0.5527119286370876"
      ]
     },
     "execution_count": 211,
     "metadata": {},
     "output_type": "execute_result"
    }
   ],
   "source": [
    "pc.pmi(\"javascript\")"
   ]
  },
  {
   "cell_type": "code",
   "execution_count": 213,
   "metadata": {},
   "outputs": [
    {
     "data": {
      "text/plain": [
       "0"
      ]
     },
     "execution_count": 213,
     "metadata": {},
     "output_type": "execute_result"
    }
   ],
   "source": [
    "pc.pmi(\"adascript\")"
   ]
  },
  {
   "cell_type": "code",
   "execution_count": 219,
   "metadata": {},
   "outputs": [
    {
     "data": {
      "text/plain": [
       "[0.07980790465355447, -0.4304942959128377, 1.1057827364354074]"
      ]
     },
     "execution_count": 219,
     "metadata": {},
     "output_type": "execute_result"
    }
   ],
   "source": [
    "[pc.pmi(word) for word in ['racist', 'bigot', 'sexist']]"
   ]
  },
  {
   "cell_type": "markdown",
   "metadata": {},
   "source": [
    "# Category Filtering"
   ]
  },
  {
   "cell_type": "code",
   "execution_count": 6,
   "metadata": {},
   "outputs": [
    {
     "data": {
      "application/vnd.jupyter.widget-view+json": {
       "model_id": "68693a98c270450e8f836a520342fb5e",
       "version_major": 2,
       "version_minor": 0
      },
      "text/html": [
       "<p>Failed to display Jupyter Widget of type <code>IntText</code>.</p>\n",
       "<p>\n",
       "  If you're reading this message in the Jupyter Notebook or JupyterLab Notebook, it may mean\n",
       "  that the widgets JavaScript is still loading. If this message persists, it\n",
       "  likely means that the widgets JavaScript library is either not installed or\n",
       "  not enabled. See the <a href=\"https://ipywidgets.readthedocs.io/en/stable/user_install.html\">Jupyter\n",
       "  Widgets Documentation</a> for setup instructions.\n",
       "</p>\n",
       "<p>\n",
       "  If you're reading this message in another frontend (for example, a static\n",
       "  rendering on GitHub or <a href=\"https://nbviewer.jupyter.org/\">NBViewer</a>),\n",
       "  it may mean that your frontend doesn't currently support widgets.\n",
       "</p>\n"
      ],
      "text/plain": [
       "IntText(value=0, description='Categories')"
      ]
     },
     "metadata": {},
     "output_type": "display_data"
    },
    {
     "data": {
      "application/vnd.jupyter.widget-view+json": {
       "model_id": "baccd46eeb0f4490b88262800f86133d",
       "version_major": 2,
       "version_minor": 0
      },
      "text/html": [
       "<p>Failed to display Jupyter Widget of type <code>FloatProgress</code>.</p>\n",
       "<p>\n",
       "  If you're reading this message in the Jupyter Notebook or JupyterLab Notebook, it may mean\n",
       "  that the widgets JavaScript is still loading. If this message persists, it\n",
       "  likely means that the widgets JavaScript library is either not installed or\n",
       "  not enabled. See the <a href=\"https://ipywidgets.readthedocs.io/en/stable/user_install.html\">Jupyter\n",
       "  Widgets Documentation</a> for setup instructions.\n",
       "</p>\n",
       "<p>\n",
       "  If you're reading this message in another frontend (for example, a static\n",
       "  rendering on GitHub or <a href=\"https://nbviewer.jupyter.org/\">NBViewer</a>),\n",
       "  it may mean that your frontend doesn't currently support widgets.\n",
       "</p>\n"
      ],
      "text/plain": [
       "FloatProgress(value=0.0, max=850399.0)"
      ]
     },
     "metadata": {},
     "output_type": "display_data"
    }
   ],
   "source": [
    "fp = FloatProgress(min=0, max=850399)\n",
    "cc = IntText(value=0, description=\"Categories\")\n",
    "display(cc, fp)\n",
    "article_count = 0\n",
    "category_counts = None\n",
    "\n",
    "matcher = re.compile(\"\\[\\[Category:([^\\]]*)\", re.IGNORECASE)\n",
    "\n",
    "category_to_articles = collections.defaultdict(list)\n",
    "\n",
    "with open(\"data/gendered-labeled-articles\", 'r') as f:\n",
    "    for line in f:\n",
    "        article_count += 1\n",
    "        if article_count % 1000 == 0:\n",
    "            fp.value = article_count\n",
    "            cc.value = len(category_to_articles)\n",
    "        article_id = int(line.split(\" \", 1)[0])\n",
    "        for category in matcher.findall(line):\n",
    "            category_to_articles[category].append(article_id)"
   ]
  },
  {
   "cell_type": "code",
   "execution_count": 8,
   "metadata": {},
   "outputs": [
    {
     "data": {
      "text/plain": [
       "[('sports', 22673),\n",
       " ('monarch', 12644),\n",
       " ('scientist', 10384),\n",
       " ('artists', 30265),\n",
       " ('programming', 1047),\n",
       " ('fictional', 4)]"
      ]
     },
     "execution_count": 8,
     "metadata": {},
     "output_type": "execute_result"
    }
   ],
   "source": [
    "topic_to_articles = collections.defaultdict(set)\n",
    "topic_patterns = {\n",
    "    \"programming\": re.compile(\"software|programmer\"),\n",
    "    \"sports\": re.compile(\"athlete|sportspeople\"),\n",
    "    \"artists\": re.compile(\"artist\"),\n",
    "    \"scientist\": re.compile(\"scientist\"),\n",
    "    \"fictional\": re.compile(\"fictional\"),\n",
    "    \"monarch\": re.compile(\"king|queen|monarch|royal|prince|princess\"),\n",
    "    \n",
    "    \n",
    "    #                          \"politicians\",\n",
    "     #                         \"military personnel\",\n",
    "\n",
    "                              #sportmanager\n",
    "                              #cleric\n",
    "       #                       \"monarch\",\n",
    "        #                      \"Fictional\\ characters\",\n",
    "         #                     \"nobility\",\n",
    "          #                    \"criminals\",\n",
    "           #                   \"judges\"\n",
    "    \n",
    "}\n",
    "\n",
    "\n",
    "for k,v in category_to_articles.items():\n",
    "    for topic, pattern in topic_patterns.items():\n",
    "        if pattern.search(k):\n",
    "            topic_to_articles[topic].update(v)\n",
    "            \n",
    "[(k, len(v)) for (k,v) in topic_to_articles.items()]"
   ]
  },
  {
   "cell_type": "code",
   "execution_count": 9,
   "metadata": {},
   "outputs": [
    {
     "data": {
      "application/vnd.jupyter.widget-view+json": {
       "model_id": "0b570bd234784e8c9f030709e70271ab",
       "version_major": 2,
       "version_minor": 0
      },
      "text/html": [
       "<p>Failed to display Jupyter Widget of type <code>FloatProgress</code>.</p>\n",
       "<p>\n",
       "  If you're reading this message in the Jupyter Notebook or JupyterLab Notebook, it may mean\n",
       "  that the widgets JavaScript is still loading. If this message persists, it\n",
       "  likely means that the widgets JavaScript library is either not installed or\n",
       "  not enabled. See the <a href=\"https://ipywidgets.readthedocs.io/en/stable/user_install.html\">Jupyter\n",
       "  Widgets Documentation</a> for setup instructions.\n",
       "</p>\n",
       "<p>\n",
       "  If you're reading this message in another frontend (for example, a static\n",
       "  rendering on GitHub or <a href=\"https://nbviewer.jupyter.org/\">NBViewer</a>),\n",
       "  it may mean that your frontend doesn't currently support widgets.\n",
       "</p>\n"
      ],
      "text/plain": [
       "FloatProgress(value=0.0, max=850399.0)"
      ]
     },
     "metadata": {},
     "output_type": "display_data"
    },
    {
     "name": "stdout",
     "output_type": "stream",
     "text": [
      "Articles: 850399 Time: 7.9872894287109375 seconds\n"
     ]
    }
   ],
   "source": [
    "fp = FloatProgress(min=0, max=850399)\n",
    "display(fp)\n",
    "article_count = 0\n",
    "\n",
    "topic_writers = {topic: open(\"data/topic-\" + topic + \"words\", 'w') for topic in topic_to_articles.keys()}\n",
    "\n",
    "start = time.time()\n",
    "try:\n",
    "    with open(\"data/gendered-labeled-arlticles.stripped\", 'r') as f:\n",
    "        for line in f:\n",
    "            article_count += 1\n",
    "            if article_count % 1000 == 0:\n",
    "                fp.value = article_count\n",
    "            article_id, words = line.split(\" \", 1)\n",
    "            for topic, ids in topic_to_articles.items():\n",
    "                if article_id in ids:\n",
    "                    topic_writers[topic].write(words)\n",
    "                    topic_writers[topic].write(\"\\n\")\n",
    "\n",
    "finally:        \n",
    "    for writer in topic_writers.values():\n",
    "        writer.close()\n",
    "    print(\"Articles:\", article_count, \"Time:\", (time.time() - start), \"seconds\")"
   ]
  },
  {
   "cell_type": "code",
   "execution_count": 21,
   "metadata": {},
   "outputs": [
    {
     "data": {
      "text/plain": [
       "2"
      ]
     },
     "execution_count": 21,
     "metadata": {},
     "output_type": "execute_result"
    }
   ],
   "source": [
    "1+1"
   ]
  },
  {
   "cell_type": "code",
   "execution_count": 64,
   "metadata": {},
   "outputs": [],
   "source": [
    "def parse_glove_file(file_path, ndim):\n",
    "    # File path inside archive\n",
    "    inner_path = \"glove.6B.{:d}d.txt\".format(ndim)\n",
    "    print(\"Parsing file: {:s}:{:s}\".format(file_path, inner_path))\n",
    "    # Count lines to pre-allocate memory\n",
    "    line_count = 0\n",
    "    with open(file_path, 'r') as f:\n",
    "        for line in f:\n",
    "            line_count += 1\n",
    "    print(\"Found {:,} words.\".format(line_count))\n",
    "    \n",
    "    # Pre-allocate vectors as a contiguous array\n",
    "    W = np.zeros((line_count, ndim), dtype=np.float32)\n",
    "    words = []\n",
    "\n",
    "    print(\"Parsing vectors... \", end=\"\")\n",
    "    with open(file_path, 'r') as f:\n",
    "        for i, line in enumerate(f):\n",
    "            word, numbers = line.split(maxsplit=1)\n",
    "            words.append(word)\n",
    "            W[i] = np.fromstring(numbers, dtype=np.float32, sep=\" \")\n",
    "    \n",
    "    print(\"Done! (W.shape = {:s})\".format(str(W.shape)))\n",
    "    return words, W\n",
    "\n",
    "def find_nn_cos(v, Wv, k=10):\n",
    "    cos_similarity = np.dot(Wv, v) / (np.linalg.norm(v) * np.linalg.norm(Wv, axis=1))\n",
    "    nns = np.argsort(cos_similarity)[-k:]\n",
    "    return (nns, cos_similarity[nns])\n",
    "\n",
    "def analogy(vA, vB, vC, Wv, k=5):\n",
    "    return find_nn_cos(vB - vA + vC, Wv, k)\n",
    "\n",
    "class Glove:\n",
    "    \n",
    "    def __init__(self, file_path, ndim):\n",
    "        self.words, self.W = parse_glove_file(file_path, ndim)\n",
    "        self.word_index = {}\n",
    "        for i, word in enumerate(self.words):\n",
    "            self.word_index[word] = i\n",
    "            \n",
    "    def vector(self, word):\n",
    "        return self.W[self.word_index[word]]\n",
    "    \n",
    "    def analogy(self, a, b, c, k=5):\n",
    "        return [self.words[i] for i in analogy(self.vector(a), self.vector(b), self.vector(c), self.W, k)[0]]"
   ]
  },
  {
   "cell_type": "code",
   "execution_count": null,
   "metadata": {},
   "outputs": [],
   "source": []
  },
  {
   "cell_type": "code",
   "execution_count": 20,
   "metadata": {},
   "outputs": [
    {
     "name": "stdout",
     "output_type": "stream",
     "text": [
      "Parsing file: data/glove/topic-sportswords-vectors.txt:glove.6B.200d.txt\n",
      "Found 91,223 words.\n",
      "Parsing vectors... Done! (W.shape = (91223, 200))\n"
     ]
    }
   ],
   "source": [
    "glove = {}\n",
    "glove[\"sports\"] = {}\n",
    "glove[\"sports\"][\"words\"], glove[\"sports\"][\"W\"] = word, W = parse_glove_file(\"data/glove/topic-sportswords-vectors.txt\", 200)"
   ]
  },
  {
   "cell_type": "code",
   "execution_count": 65,
   "metadata": {},
   "outputs": [
    {
     "name": "stdout",
     "output_type": "stream",
     "text": [
      "Parsing file: data/glove/glove.6B.200d.txt:glove.6B.200d.txt\n",
      "Found 400,001 words.\n",
      "Parsing vectors... Done! (W.shape = (400001, 200))\n"
     ]
    }
   ],
   "source": [
    "glove_all = Glove(\"data/glove/glove.6B.200d.txt\", 200)"
   ]
  },
  {
   "cell_type": "code",
   "execution_count": 102,
   "metadata": {},
   "outputs": [
    {
     "name": "stdout",
     "output_type": "stream",
     "text": [
      "Parsing file: data/glove/glove.6B.300d.txt:glove.6B.300d.txt\n",
      "Found 400,001 words.\n",
      "Parsing vectors... Done! (W.shape = (400001, 300))\n"
     ]
    }
   ],
   "source": [
    "glove_all300 = Glove(\"data/glove/glove.6B.300d.txt\", 300)"
   ]
  },
  {
   "cell_type": "code",
   "execution_count": 84,
   "metadata": {},
   "outputs": [
    {
     "name": "stdout",
     "output_type": "stream",
     "text": [
      "Parsing file: data/glove/topic-programmingwords-vectors.txt:glove.6B.200d.txt\n",
      "Found 17,607 words.\n",
      "Parsing vectors... Done! (W.shape = (17607, 200))\n"
     ]
    }
   ],
   "source": [
    "glove_programming = Glove(\"data/glove/topic-programmingwords-vectors.txt\", 200)"
   ]
  },
  {
   "cell_type": "code",
   "execution_count": 69,
   "metadata": {},
   "outputs": [
    {
     "name": "stdout",
     "output_type": "stream",
     "text": [
      "Parsing file: data/glove/topic-sportswords-vectors.txt:glove.6B.200d.txt\n",
      "Found 91,223 words.\n",
      "Parsing vectors... Done! (W.shape = (91223, 200))\n"
     ]
    }
   ],
   "source": [
    "glove_sports = Glove(\"data/glove/topic-sportswords-vectors.txt\", 200)"
   ]
  },
  {
   "cell_type": "code",
   "execution_count": 70,
   "metadata": {},
   "outputs": [
    {
     "name": "stdout",
     "output_type": "stream",
     "text": [
      "Parsing file: data/glove/topic-scientistwords-vectors.txt:glove.6B.200d.txt\n",
      "Found 81,276 words.\n",
      "Parsing vectors... Done! (W.shape = (81276, 200))\n"
     ]
    }
   ],
   "source": [
    "glove_science = Glove(\"data/glove/topic-scientistwords-vectors.txt\", 200)"
   ]
  },
  {
   "cell_type": "code",
   "execution_count": 66,
   "metadata": {},
   "outputs": [
    {
     "data": {
      "text/plain": [
       "['prince', 'monarch', 'princess', 'queen', 'king']"
      ]
     },
     "execution_count": 66,
     "metadata": {},
     "output_type": "execute_result"
    }
   ],
   "source": [
    "glove_all.analogy(\"man\", \"woman\", \"king\")"
   ]
  },
  {
   "cell_type": "code",
   "execution_count": 67,
   "metadata": {},
   "outputs": [
    {
     "data": {
      "text/plain": [
       "['elizabeth', 'prince', 'princess', 'queen', 'king']"
      ]
     },
     "execution_count": 67,
     "metadata": {},
     "output_type": "execute_result"
    }
   ],
   "source": [
    "glove_all.analogy(\"he\", \"she\", \"king\")"
   ]
  },
  {
   "cell_type": "code",
   "execution_count": 68,
   "metadata": {},
   "outputs": [
    {
     "data": {
      "text/plain": [
       "['actress', 'animator', 'designer', 'programmers', 'programmer']"
      ]
     },
     "execution_count": 68,
     "metadata": {},
     "output_type": "execute_result"
    }
   ],
   "source": [
    "glove_all.analogy(\"he\", \"she\", \"programmer\")"
   ]
  },
  {
   "cell_type": "code",
   "execution_count": 72,
   "metadata": {},
   "outputs": [
    {
     "data": {
      "text/plain": [
       "['rapide', 'wezemaal', 'dorovskikh', 'sycv', 'lagging']"
      ]
     },
     "execution_count": 72,
     "metadata": {},
     "output_type": "execute_result"
    }
   ],
   "source": [
    "glove_sports.analogy(\"he\", \"she\", \"programmer\")"
   ]
  },
  {
   "cell_type": "code",
   "execution_count": 80,
   "metadata": {},
   "outputs": [
    {
     "data": {
      "text/plain": [
       "['she', 'mother', 'girl', 'man', 'woman']"
      ]
     },
     "execution_count": 80,
     "metadata": {},
     "output_type": "execute_result"
    }
   ],
   "source": [
    "glove_all.analogy(\"he\", \"she\", \"man\")"
   ]
  },
  {
   "cell_type": "code",
   "execution_count": 83,
   "metadata": {},
   "outputs": [
    {
     "data": {
      "text/plain": [
       "['went', 'runs', 'running', 'ran', 'run']"
      ]
     },
     "execution_count": 83,
     "metadata": {},
     "output_type": "execute_result"
    }
   ],
   "source": [
    "glove_all.analogy(\"affect\", \"effect\", \"run\")"
   ]
  },
  {
   "cell_type": "code",
   "execution_count": 85,
   "metadata": {},
   "outputs": [
    {
     "data": {
      "text/plain": [
       "['annabella', 'her', 'she', 'pastel', 'compiler']"
      ]
     },
     "execution_count": 85,
     "metadata": {},
     "output_type": "execute_result"
    }
   ],
   "source": [
    "glove_programming.analogy(\"he\", \"she\", \"compiler\")"
   ]
  },
  {
   "cell_type": "code",
   "execution_count": 86,
   "metadata": {},
   "outputs": [
    {
     "data": {
      "text/plain": [
       "['fortran', 'runtime', 'c++', 'compilers', 'compiler']"
      ]
     },
     "execution_count": 86,
     "metadata": {},
     "output_type": "execute_result"
    }
   ],
   "source": [
    "glove_all.analogy(\"he\", \"she\", \"compiler\")"
   ]
  },
  {
   "cell_type": "code",
   "execution_count": 91,
   "metadata": {},
   "outputs": [
    {
     "data": {
      "text/plain": [
       "['compilers', 'emacs', 'object-oriented', 'smalltalk', 'lisp']"
      ]
     },
     "execution_count": 91,
     "metadata": {},
     "output_type": "execute_result"
    }
   ],
   "source": [
    "glove_all.analogy(\"he\", \"she\", \"lisp\")"
   ]
  },
  {
   "cell_type": "code",
   "execution_count": 95,
   "metadata": {},
   "outputs": [
    {
     "data": {
      "text/plain": [
       "['annabella', 'her', 'she', 'pastel', 'compiler']"
      ]
     },
     "execution_count": 95,
     "metadata": {},
     "output_type": "execute_result"
    }
   ],
   "source": [
    "glove_programming.analogy(\"he\", \"she\", \"compiler\")"
   ]
  },
  {
   "cell_type": "code",
   "execution_count": 93,
   "metadata": {},
   "outputs": [
    {
     "data": {
      "text/plain": [
       "['spider', 'burning', 'mythical', 'pac', 'man']"
      ]
     },
     "execution_count": 93,
     "metadata": {},
     "output_type": "execute_result"
    }
   ],
   "source": [
    "glove_programming.analogy(\"he\", \"she\", \"man\")"
   ]
  },
  {
   "cell_type": "code",
   "execution_count": 94,
   "metadata": {},
   "outputs": [
    {
     "data": {
      "text/plain": [
       "['she', 'mother', 'girl', 'man', 'woman']"
      ]
     },
     "execution_count": 94,
     "metadata": {},
     "output_type": "execute_result"
    }
   ],
   "source": [
    "glove_all.analogy(\"he\", \"she\", \"man\")"
   ]
  },
  {
   "cell_type": "code",
   "execution_count": 82,
   "metadata": {},
   "outputs": [
    {
     "data": {
      "text/plain": [
       "['science', 'biology', 'mathematics', 'chemistry', 'physics']"
      ]
     },
     "execution_count": 82,
     "metadata": {},
     "output_type": "execute_result"
    }
   ],
   "source": [
    "glove_all.analogy(\"he\", \"she\", \"physics\")"
   ]
  },
  {
   "cell_type": "code",
   "execution_count": 75,
   "metadata": {},
   "outputs": [
    {
     "data": {
      "text/plain": [
       "['curricula', 'mathematics', 'college-level', 'women', 'calculus']"
      ]
     },
     "execution_count": 75,
     "metadata": {},
     "output_type": "execute_result"
    }
   ],
   "source": [
    "glove_all.analogy(\"man\", \"women\", \"calculus\")"
   ]
  },
  {
   "cell_type": "code",
   "execution_count": 76,
   "metadata": {},
   "outputs": [
    {
     "data": {
      "text/plain": [
       "['primatologists', 'ethologists', '20th', 'calculus', 'women']"
      ]
     },
     "execution_count": 76,
     "metadata": {},
     "output_type": "execute_result"
    }
   ],
   "source": [
    "glove_science.analogy(\"man\", \"women\", \"calculus\")"
   ]
  },
  {
   "cell_type": "code",
   "execution_count": 81,
   "metadata": {},
   "outputs": [
    {
     "data": {
      "text/plain": [
       "['theoretical', 'chemistry', 'her', 'she', 'physics']"
      ]
     },
     "execution_count": 81,
     "metadata": {},
     "output_type": "execute_result"
    }
   ],
   "source": [
    "glove_science.analogy(\"he\", \"she\", \"physics\")"
   ]
  },
  {
   "cell_type": "code",
   "execution_count": 77,
   "metadata": {},
   "outputs": [
    {
     "data": {
      "text/plain": [
       "['20th', 'theoretical', 'chemistry', 'physics', 'women']"
      ]
     },
     "execution_count": 77,
     "metadata": {},
     "output_type": "execute_result"
    }
   ],
   "source": [
    "glove_science.analogy(\"man\", \"women\", \"physics\")"
   ]
  },
  {
   "cell_type": "code",
   "execution_count": 78,
   "metadata": {},
   "outputs": [
    {
     "data": {
      "text/plain": [
       "['theoretical', 'women', 'biology', 'mathematics', 'physics']"
      ]
     },
     "execution_count": 78,
     "metadata": {},
     "output_type": "execute_result"
    }
   ],
   "source": [
    "glove_all.analogy(\"man\", \"women\", \"physics\")"
   ]
  },
  {
   "cell_type": "code",
   "execution_count": 108,
   "metadata": {},
   "outputs": [
    {
     "data": {
      "text/plain": [
       "['science', 'chemistry', 'biochemistry', 'physics', 'biology']"
      ]
     },
     "execution_count": 108,
     "metadata": {},
     "output_type": "execute_result"
    }
   ],
   "source": [
    "glove_all.analogy(\"woman\", \"man\", \"biology\")"
   ]
  },
  {
   "cell_type": "code",
   "execution_count": 96,
   "metadata": {},
   "outputs": [
    {
     "data": {
      "text/plain": [
       "['biermann', 'owl', 'leopard', 'cat', 'wolf']"
      ]
     },
     "execution_count": 96,
     "metadata": {},
     "output_type": "execute_result"
    }
   ],
   "source": [
    "    glove_all.analogy(\"dog\", \"cat\", \"wolf\")"
   ]
  },
  {
   "cell_type": "code",
   "execution_count": 97,
   "metadata": {},
   "outputs": [
    {
     "data": {
      "text/plain": [
       "['tell', 'tells', 'lover', 'loves', 'love']"
      ]
     },
     "execution_count": 97,
     "metadata": {},
     "output_type": "execute_result"
    }
   ],
   "source": [
    "glove_all.analogy(\"victory\", \"defeat\", \"love\")"
   ]
  },
  {
   "cell_type": "code",
   "execution_count": 98,
   "metadata": {},
   "outputs": [
    {
     "data": {
      "text/plain": [
       "['loved', 'sense', 'betrayal', 'cold', 'love']"
      ]
     },
     "execution_count": 98,
     "metadata": {},
     "output_type": "execute_result"
    }
   ],
   "source": [
    "glove_all.analogy(\"hot\", \"cold\", \"love\")"
   ]
  },
  {
   "cell_type": "code",
   "execution_count": 99,
   "metadata": {},
   "outputs": [
    {
     "data": {
      "text/plain": [
       "['betrayal', 'lust', 'demons', 'love', 'evil']"
      ]
     },
     "execution_count": 99,
     "metadata": {},
     "output_type": "execute_result"
    }
   ],
   "source": [
    "glove_all.analogy(\"good\", \"evil\", \"love\")"
   ]
  },
  {
   "cell_type": "code",
   "execution_count": 101,
   "metadata": {},
   "outputs": [
    {
     "data": {
      "text/plain": [
       "['ought', 'nicer', 'folks', 'hate', 'nice']"
      ]
     },
     "execution_count": 101,
     "metadata": {},
     "output_type": "execute_result"
    }
   ],
   "source": [
    "glove_all.analogy(\"love\", \"hate\", \"nice\")"
   ]
  },
  {
   "cell_type": "code",
   "execution_count": 109,
   "metadata": {},
   "outputs": [
    {
     "data": {
      "text/plain": [
       "['mother', 'she', 'girl', 'man', 'woman']"
      ]
     },
     "execution_count": 109,
     "metadata": {},
     "output_type": "execute_result"
    }
   ],
   "source": [
    "glove_all300.analogy(\"he\", \"she\", \"man\")"
   ]
  },
  {
   "cell_type": "code",
   "execution_count": 103,
   "metadata": {},
   "outputs": [
    {
     "data": {
      "text/plain": [
       "['endless', 'bug', 'zumbano', 'evil', 'love']"
      ]
     },
     "execution_count": 103,
     "metadata": {},
     "output_type": "execute_result"
    }
   ],
   "source": [
    "glove_sports.analogy(\"good\", \"evil\", \"love\")"
   ]
  },
  {
   "cell_type": "code",
   "execution_count": 105,
   "metadata": {},
   "outputs": [
    {
     "data": {
      "text/plain": [
       "['theguardian', 'defender', 'striker', 'umpire', 'football']"
      ]
     },
     "execution_count": 105,
     "metadata": {},
     "output_type": "execute_result"
    }
   ],
   "source": [
    "glove_sports.analogy(\"baseball\", \"umpire\", \"football\")"
   ]
  },
  {
   "cell_type": "code",
   "execution_count": 106,
   "metadata": {},
   "outputs": [
    {
     "data": {
      "text/plain": [
       "['rudi', 'linesman', 'umpires', 'referee', 'umpire']"
      ]
     },
     "execution_count": 106,
     "metadata": {},
     "output_type": "execute_result"
    }
   ],
   "source": [
    "glove_all.analogy(\"baseball\", \"umpire\", \"football\")"
   ]
  },
  {
   "cell_type": "code",
   "execution_count": null,
   "metadata": {},
   "outputs": [],
   "source": [
    "glove_sports.analogy(\"baseball\", \"umpire\", \"football\")"
   ]
  }
 ],
 "metadata": {
  "kernelspec": {
   "display_name": "Python 3",
   "language": "python",
   "name": "python3"
  },
  "language_info": {
   "codemirror_mode": {
    "name": "ipython",
    "version": 3
   },
   "file_extension": ".py",
   "mimetype": "text/x-python",
   "name": "python",
   "nbconvert_exporter": "python",
   "pygments_lexer": "ipython3",
   "version": "3.6.4"
  }
 },
 "nbformat": 4,
 "nbformat_minor": 2
}
